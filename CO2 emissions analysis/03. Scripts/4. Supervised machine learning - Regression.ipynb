{
 "cells": [
  {
   "cell_type": "markdown",
   "id": "16ed3043",
   "metadata": {},
   "source": [
    "# 4. Supervised machine learning - Regression\n",
    "** **\n",
    "## Table of contents:\n",
    "\n",
    "1. Importing libraries <br>\n",
    "2. Importing dataframe <br>\n",
    "3. Preliminary checks\n",
    "    - 3.1 Missing values and 0 values\n",
    "    - 3.2 Checking extreme values\n",
    "4. Hypothesis definition\n",
    "5. Regression analysis\n",
    "    - 5.1 Reshaping variables into NumPy arrays\n",
    "    - 5.2 Splitting data\n",
    "    - 5.3 Creating and fitting the regression object\n",
    "    - 5.4 Testing predictions\n",
    "    - 5.5 Summary statistics\n",
    "    - 5.6 Comparing actual values and predicted values\n",
    "6. Improving the regression\n",
    "    - 6.1 Removing outliers\n",
    "    - 6.2 Reshaping variables into NumPy arrays\n",
    "    - 6.3 Splitting data\n",
    "    - 6.4 Creating and fitting the regression object\n",
    "    - 6.5 Testing predictions\n",
    "    - 6.6 Summary statistics\n",
    "    - 6.7 Comparing actual values and predicted values\n",
    "7. Conclusions"
   ]
  },
  {
   "cell_type": "markdown",
   "id": "3fd32d2f",
   "metadata": {},
   "source": [
    "# 1. Importing libraries\n",
    "** **"
   ]
  },
  {
   "cell_type": "code",
   "execution_count": 1,
   "id": "680e17cf",
   "metadata": {},
   "outputs": [],
   "source": [
    "import pandas as pd\n",
    "import numpy as np\n",
    "import seaborn as sns\n",
    "import matplotlib\n",
    "import matplotlib.pyplot as plt\n",
    "import os\n",
    "import sklearn\n",
    "from sklearn.model_selection import train_test_split \n",
    "from sklearn.linear_model import LinearRegression\n",
    "from sklearn.metrics import mean_squared_error, r2_score"
   ]
  },
  {
   "cell_type": "code",
   "execution_count": 2,
   "id": "9f42ab23",
   "metadata": {},
   "outputs": [],
   "source": [
    "# This command propts matplotlib visuals to appear in the notebook \n",
    "\n",
    "%matplotlib inline"
   ]
  },
  {
   "cell_type": "markdown",
   "id": "ccaa49a3",
   "metadata": {},
   "source": [
    "# 2. Importing dataframe\n",
    "** **"
   ]
  },
  {
   "cell_type": "code",
   "execution_count": 3,
   "id": "44834d1d",
   "metadata": {},
   "outputs": [],
   "source": [
    "# Creating a path variabile for the folder\n",
    "path = r'C:\\Users\\Simone\\Desktop\\Career Foundry\\Esercizi modulo 7\\CO2 emissions analysis'"
   ]
  },
  {
   "cell_type": "code",
   "execution_count": 4,
   "id": "66d4624f",
   "metadata": {},
   "outputs": [],
   "source": [
    "# Importing the dataframe\n",
    "df_co2 = pd.read_pickle(os.path.join(path, '02. Data', 'Prepared Data', 'emissions_clean_2015_no_countries_no_aggregations_flags.pkl'))"
   ]
  },
  {
   "cell_type": "code",
   "execution_count": 5,
   "id": "1e58877e",
   "metadata": {},
   "outputs": [
    {
     "data": {
      "text/html": [
       "<div>\n",
       "<style scoped>\n",
       "    .dataframe tbody tr th:only-of-type {\n",
       "        vertical-align: middle;\n",
       "    }\n",
       "\n",
       "    .dataframe tbody tr th {\n",
       "        vertical-align: top;\n",
       "    }\n",
       "\n",
       "    .dataframe thead th {\n",
       "        text-align: right;\n",
       "    }\n",
       "</style>\n",
       "<table border=\"1\" class=\"dataframe\">\n",
       "  <thead>\n",
       "    <tr style=\"text-align: right;\">\n",
       "      <th></th>\n",
       "      <th>Country</th>\n",
       "      <th>Energy_type</th>\n",
       "      <th>Year</th>\n",
       "      <th>Energy_consumption</th>\n",
       "      <th>Energy_production</th>\n",
       "      <th>GDP</th>\n",
       "      <th>Population</th>\n",
       "      <th>Energy_intensity_per_capita</th>\n",
       "      <th>Energy_intensity_by_GDP</th>\n",
       "      <th>CO2_emission</th>\n",
       "      <th>GDP_category</th>\n",
       "      <th>CO2_category</th>\n",
       "      <th>Average_CO2_emission</th>\n",
       "    </tr>\n",
       "  </thead>\n",
       "  <tbody>\n",
       "    <tr>\n",
       "      <th>0</th>\n",
       "      <td>Afghanistan</td>\n",
       "      <td>coal</td>\n",
       "      <td>2015</td>\n",
       "      <td>0.03</td>\n",
       "      <td>0.03</td>\n",
       "      <td>72.06</td>\n",
       "      <td>34414.0</td>\n",
       "      <td>3.67</td>\n",
       "      <td>1.75</td>\n",
       "      <td>2.95</td>\n",
       "      <td>Medium-high</td>\n",
       "      <td>Low</td>\n",
       "      <td>1.5824</td>\n",
       "    </tr>\n",
       "    <tr>\n",
       "      <th>1</th>\n",
       "      <td>Afghanistan</td>\n",
       "      <td>natural_gas</td>\n",
       "      <td>2015</td>\n",
       "      <td>0.01</td>\n",
       "      <td>0.01</td>\n",
       "      <td>72.06</td>\n",
       "      <td>34414.0</td>\n",
       "      <td>3.67</td>\n",
       "      <td>1.75</td>\n",
       "      <td>0.28</td>\n",
       "      <td>Medium-high</td>\n",
       "      <td>Low</td>\n",
       "      <td>1.5824</td>\n",
       "    </tr>\n",
       "    <tr>\n",
       "      <th>2</th>\n",
       "      <td>Afghanistan</td>\n",
       "      <td>petroleum_n_other_liquids</td>\n",
       "      <td>2015</td>\n",
       "      <td>0.07</td>\n",
       "      <td>0.00</td>\n",
       "      <td>72.06</td>\n",
       "      <td>34414.0</td>\n",
       "      <td>3.67</td>\n",
       "      <td>1.75</td>\n",
       "      <td>3.94</td>\n",
       "      <td>Medium-high</td>\n",
       "      <td>Low</td>\n",
       "      <td>1.5824</td>\n",
       "    </tr>\n",
       "    <tr>\n",
       "      <th>3</th>\n",
       "      <td>Afghanistan</td>\n",
       "      <td>nuclear</td>\n",
       "      <td>2015</td>\n",
       "      <td>NaN</td>\n",
       "      <td>NaN</td>\n",
       "      <td>72.06</td>\n",
       "      <td>34414.0</td>\n",
       "      <td>3.67</td>\n",
       "      <td>1.75</td>\n",
       "      <td>0.00</td>\n",
       "      <td>Medium-high</td>\n",
       "      <td>Low</td>\n",
       "      <td>1.5824</td>\n",
       "    </tr>\n",
       "    <tr>\n",
       "      <th>4</th>\n",
       "      <td>Afghanistan</td>\n",
       "      <td>renewables_n_other</td>\n",
       "      <td>2015</td>\n",
       "      <td>0.02</td>\n",
       "      <td>0.01</td>\n",
       "      <td>72.06</td>\n",
       "      <td>34414.0</td>\n",
       "      <td>3.67</td>\n",
       "      <td>1.75</td>\n",
       "      <td>0.00</td>\n",
       "      <td>Medium-high</td>\n",
       "      <td>Low</td>\n",
       "      <td>1.5824</td>\n",
       "    </tr>\n",
       "  </tbody>\n",
       "</table>\n",
       "</div>"
      ],
      "text/plain": [
       "       Country                Energy_type  Year  Energy_consumption  \\\n",
       "0  Afghanistan                       coal  2015                0.03   \n",
       "1  Afghanistan                natural_gas  2015                0.01   \n",
       "2  Afghanistan  petroleum_n_other_liquids  2015                0.07   \n",
       "3  Afghanistan                    nuclear  2015                 NaN   \n",
       "4  Afghanistan         renewables_n_other  2015                0.02   \n",
       "\n",
       "   Energy_production    GDP  Population  Energy_intensity_per_capita  \\\n",
       "0               0.03  72.06     34414.0                         3.67   \n",
       "1               0.01  72.06     34414.0                         3.67   \n",
       "2               0.00  72.06     34414.0                         3.67   \n",
       "3                NaN  72.06     34414.0                         3.67   \n",
       "4               0.01  72.06     34414.0                         3.67   \n",
       "\n",
       "   Energy_intensity_by_GDP  CO2_emission GDP_category CO2_category  \\\n",
       "0                     1.75          2.95  Medium-high          Low   \n",
       "1                     1.75          0.28  Medium-high          Low   \n",
       "2                     1.75          3.94  Medium-high          Low   \n",
       "3                     1.75          0.00  Medium-high          Low   \n",
       "4                     1.75          0.00  Medium-high          Low   \n",
       "\n",
       "   Average_CO2_emission  \n",
       "0                1.5824  \n",
       "1                1.5824  \n",
       "2                1.5824  \n",
       "3                1.5824  \n",
       "4                1.5824  "
      ]
     },
     "execution_count": 5,
     "metadata": {},
     "output_type": "execute_result"
    }
   ],
   "source": [
    "# Printing the first 5 rows\n",
    "df_co2.head()"
   ]
  },
  {
   "cell_type": "markdown",
   "id": "63cc8dac",
   "metadata": {},
   "source": [
    "Last time, I removed some rows modifying the dataframe, but I forgot to reset the index."
   ]
  },
  {
   "cell_type": "code",
   "execution_count": 6,
   "id": "5e32c221",
   "metadata": {},
   "outputs": [],
   "source": [
    "# Resetting the index\n",
    "df_co2 = df_co2.reset_index(drop = True)"
   ]
  },
  {
   "cell_type": "code",
   "execution_count": 7,
   "id": "854fe162",
   "metadata": {},
   "outputs": [
    {
     "data": {
      "text/html": [
       "<div>\n",
       "<style scoped>\n",
       "    .dataframe tbody tr th:only-of-type {\n",
       "        vertical-align: middle;\n",
       "    }\n",
       "\n",
       "    .dataframe tbody tr th {\n",
       "        vertical-align: top;\n",
       "    }\n",
       "\n",
       "    .dataframe thead th {\n",
       "        text-align: right;\n",
       "    }\n",
       "</style>\n",
       "<table border=\"1\" class=\"dataframe\">\n",
       "  <thead>\n",
       "    <tr style=\"text-align: right;\">\n",
       "      <th></th>\n",
       "      <th>Country</th>\n",
       "      <th>Energy_type</th>\n",
       "      <th>Year</th>\n",
       "      <th>Energy_consumption</th>\n",
       "      <th>Energy_production</th>\n",
       "      <th>GDP</th>\n",
       "      <th>Population</th>\n",
       "      <th>Energy_intensity_per_capita</th>\n",
       "      <th>Energy_intensity_by_GDP</th>\n",
       "      <th>CO2_emission</th>\n",
       "      <th>GDP_category</th>\n",
       "      <th>CO2_category</th>\n",
       "      <th>Average_CO2_emission</th>\n",
       "    </tr>\n",
       "  </thead>\n",
       "  <tbody>\n",
       "    <tr>\n",
       "      <th>0</th>\n",
       "      <td>Afghanistan</td>\n",
       "      <td>coal</td>\n",
       "      <td>2015</td>\n",
       "      <td>0.03</td>\n",
       "      <td>0.03</td>\n",
       "      <td>72.06</td>\n",
       "      <td>34414.0</td>\n",
       "      <td>3.67</td>\n",
       "      <td>1.75</td>\n",
       "      <td>2.95</td>\n",
       "      <td>Medium-high</td>\n",
       "      <td>Low</td>\n",
       "      <td>1.5824</td>\n",
       "    </tr>\n",
       "    <tr>\n",
       "      <th>1</th>\n",
       "      <td>Afghanistan</td>\n",
       "      <td>natural_gas</td>\n",
       "      <td>2015</td>\n",
       "      <td>0.01</td>\n",
       "      <td>0.01</td>\n",
       "      <td>72.06</td>\n",
       "      <td>34414.0</td>\n",
       "      <td>3.67</td>\n",
       "      <td>1.75</td>\n",
       "      <td>0.28</td>\n",
       "      <td>Medium-high</td>\n",
       "      <td>Low</td>\n",
       "      <td>1.5824</td>\n",
       "    </tr>\n",
       "    <tr>\n",
       "      <th>2</th>\n",
       "      <td>Afghanistan</td>\n",
       "      <td>petroleum_n_other_liquids</td>\n",
       "      <td>2015</td>\n",
       "      <td>0.07</td>\n",
       "      <td>0.00</td>\n",
       "      <td>72.06</td>\n",
       "      <td>34414.0</td>\n",
       "      <td>3.67</td>\n",
       "      <td>1.75</td>\n",
       "      <td>3.94</td>\n",
       "      <td>Medium-high</td>\n",
       "      <td>Low</td>\n",
       "      <td>1.5824</td>\n",
       "    </tr>\n",
       "    <tr>\n",
       "      <th>3</th>\n",
       "      <td>Afghanistan</td>\n",
       "      <td>nuclear</td>\n",
       "      <td>2015</td>\n",
       "      <td>NaN</td>\n",
       "      <td>NaN</td>\n",
       "      <td>72.06</td>\n",
       "      <td>34414.0</td>\n",
       "      <td>3.67</td>\n",
       "      <td>1.75</td>\n",
       "      <td>0.00</td>\n",
       "      <td>Medium-high</td>\n",
       "      <td>Low</td>\n",
       "      <td>1.5824</td>\n",
       "    </tr>\n",
       "    <tr>\n",
       "      <th>4</th>\n",
       "      <td>Afghanistan</td>\n",
       "      <td>renewables_n_other</td>\n",
       "      <td>2015</td>\n",
       "      <td>0.02</td>\n",
       "      <td>0.01</td>\n",
       "      <td>72.06</td>\n",
       "      <td>34414.0</td>\n",
       "      <td>3.67</td>\n",
       "      <td>1.75</td>\n",
       "      <td>0.00</td>\n",
       "      <td>Medium-high</td>\n",
       "      <td>Low</td>\n",
       "      <td>1.5824</td>\n",
       "    </tr>\n",
       "  </tbody>\n",
       "</table>\n",
       "</div>"
      ],
      "text/plain": [
       "       Country                Energy_type  Year  Energy_consumption  \\\n",
       "0  Afghanistan                       coal  2015                0.03   \n",
       "1  Afghanistan                natural_gas  2015                0.01   \n",
       "2  Afghanistan  petroleum_n_other_liquids  2015                0.07   \n",
       "3  Afghanistan                    nuclear  2015                 NaN   \n",
       "4  Afghanistan         renewables_n_other  2015                0.02   \n",
       "\n",
       "   Energy_production    GDP  Population  Energy_intensity_per_capita  \\\n",
       "0               0.03  72.06     34414.0                         3.67   \n",
       "1               0.01  72.06     34414.0                         3.67   \n",
       "2               0.00  72.06     34414.0                         3.67   \n",
       "3                NaN  72.06     34414.0                         3.67   \n",
       "4               0.01  72.06     34414.0                         3.67   \n",
       "\n",
       "   Energy_intensity_by_GDP  CO2_emission GDP_category CO2_category  \\\n",
       "0                     1.75          2.95  Medium-high          Low   \n",
       "1                     1.75          0.28  Medium-high          Low   \n",
       "2                     1.75          3.94  Medium-high          Low   \n",
       "3                     1.75          0.00  Medium-high          Low   \n",
       "4                     1.75          0.00  Medium-high          Low   \n",
       "\n",
       "   Average_CO2_emission  \n",
       "0                1.5824  \n",
       "1                1.5824  \n",
       "2                1.5824  \n",
       "3                1.5824  \n",
       "4                1.5824  "
      ]
     },
     "execution_count": 7,
     "metadata": {},
     "output_type": "execute_result"
    }
   ],
   "source": [
    "# Printing the first 5 rows\n",
    "df_co2.head()"
   ]
  },
  {
   "cell_type": "code",
   "execution_count": 8,
   "id": "0ab5ab85",
   "metadata": {},
   "outputs": [
    {
     "data": {
      "text/plain": [
       "(5250, 13)"
      ]
     },
     "execution_count": 8,
     "metadata": {},
     "output_type": "execute_result"
    }
   ],
   "source": [
    "# Checking the shape\n",
    "df_co2.shape"
   ]
  },
  {
   "cell_type": "code",
   "execution_count": 9,
   "id": "e9eaeca8",
   "metadata": {},
   "outputs": [],
   "source": [
    "# Exporting the dataframe (overwriting) so I don't have to reset the index in the next script\n",
    "df_co2.to_pickle(os.path.join(path, '02. Data','Prepared Data', 'emissions_clean_2015_no_countries_no_aggregations_flags.pkl'))"
   ]
  },
  {
   "cell_type": "markdown",
   "id": "32c8b919",
   "metadata": {},
   "source": [
    "# 3. Preliminary checks\n",
    "** **"
   ]
  },
  {
   "cell_type": "markdown",
   "id": "3268117f",
   "metadata": {},
   "source": [
    "Before running our regression, we need to prepare our data, checking missing values and extreme values."
   ]
  },
  {
   "cell_type": "markdown",
   "id": "d26d520c",
   "metadata": {},
   "source": [
    "## 3.1 Missing values and 0 values"
   ]
  },
  {
   "cell_type": "markdown",
   "id": "c821a35e",
   "metadata": {},
   "source": [
    "We already know there are some missing values in our dataframe. Let's check again:"
   ]
  },
  {
   "cell_type": "code",
   "execution_count": 10,
   "id": "9a0d7e5c",
   "metadata": {},
   "outputs": [
    {
     "data": {
      "text/plain": [
       "Country                          0\n",
       "Energy_type                      0\n",
       "Year                             0\n",
       "Energy_consumption             896\n",
       "Energy_production              895\n",
       "GDP                            190\n",
       "Population                     175\n",
       "Energy_intensity_per_capita    125\n",
       "Energy_intensity_by_GDP        125\n",
       "CO2_emission                     0\n",
       "GDP_category                   190\n",
       "CO2_category                     8\n",
       "Average_CO2_emission             0\n",
       "dtype: int64"
      ]
     },
     "execution_count": 10,
     "metadata": {},
     "output_type": "execute_result"
    }
   ],
   "source": [
    "# Check for missing values\n",
    "\n",
    "df_co2.isnull().sum()"
   ]
  },
  {
   "cell_type": "markdown",
   "id": "7575a756",
   "metadata": {},
   "source": [
    "The variables I'm interested in are Energy_consumption and CO2_emission. <br>\n",
    "While we have 0 missing values in CO2_emission (8 were imputated) we still have 896 missing values for Energy_consumption. <br>\n",
    "We need to create a new dataframe that does not contain observations with NaN."
   ]
  },
  {
   "cell_type": "code",
   "execution_count": 11,
   "id": "7335081d",
   "metadata": {},
   "outputs": [],
   "source": [
    "# Creating a new dataframe that doesn't contain missing values in the variable of interest\n",
    "df_co2_reg = df_co2[df_co2['Energy_consumption'].isnull() == False]"
   ]
  },
  {
   "cell_type": "code",
   "execution_count": 12,
   "id": "e740e09d",
   "metadata": {},
   "outputs": [
    {
     "data": {
      "text/plain": [
       "(4354, 13)"
      ]
     },
     "execution_count": 12,
     "metadata": {},
     "output_type": "execute_result"
    }
   ],
   "source": [
    "# Checking the shape\n",
    "df_co2_reg.shape"
   ]
  },
  {
   "cell_type": "markdown",
   "id": "ba3b6261",
   "metadata": {},
   "source": [
    "The new dataframe has 896 less observations. Let's see if the missing values are 0."
   ]
  },
  {
   "cell_type": "code",
   "execution_count": 13,
   "id": "5d4e3d61",
   "metadata": {},
   "outputs": [
    {
     "data": {
      "text/plain": [
       "Country                          0\n",
       "Energy_type                      0\n",
       "Year                             0\n",
       "Energy_consumption               0\n",
       "Energy_production                0\n",
       "GDP                            151\n",
       "Population                     140\n",
       "Energy_intensity_per_capita    100\n",
       "Energy_intensity_by_GDP        100\n",
       "CO2_emission                     0\n",
       "GDP_category                   151\n",
       "CO2_category                     7\n",
       "Average_CO2_emission             0\n",
       "dtype: int64"
      ]
     },
     "execution_count": 13,
     "metadata": {},
     "output_type": "execute_result"
    }
   ],
   "source": [
    "# Check for missing values\n",
    "\n",
    "df_co2_reg.isnull().sum()"
   ]
  },
  {
   "cell_type": "markdown",
   "id": "e8caec2e",
   "metadata": {},
   "source": [
    "Removing the observations with Energy_consumption NaN removed also missing values for Energy_production. <br>\n",
    "Let's move on."
   ]
  },
  {
   "cell_type": "markdown",
   "id": "70416e91",
   "metadata": {},
   "source": [
    "Now we just need to remove the \"0\" values. We don't know for sure if they're missing values, but they could affect our regression."
   ]
  },
  {
   "cell_type": "code",
   "execution_count": 14,
   "id": "c2d1432b",
   "metadata": {},
   "outputs": [],
   "source": [
    "# Removing 0 values\n",
    "df_co2_reg = df_co2_reg[df_co2_reg['CO2_emission'] >= 0.00001]"
   ]
  },
  {
   "cell_type": "code",
   "execution_count": 15,
   "id": "396e636d",
   "metadata": {},
   "outputs": [],
   "source": [
    "df_co2_reg = df_co2_reg[df_co2_reg['Energy_consumption'] >= 0.00001]"
   ]
  },
  {
   "cell_type": "code",
   "execution_count": 16,
   "id": "779c4662",
   "metadata": {},
   "outputs": [
    {
     "data": {
      "text/plain": [
       "(1960, 13)"
      ]
     },
     "execution_count": 16,
     "metadata": {},
     "output_type": "execute_result"
    }
   ],
   "source": [
    "# Checking the shape\n",
    "df_co2_reg.shape"
   ]
  },
  {
   "cell_type": "markdown",
   "id": "bbb3b1a7",
   "metadata": {},
   "source": [
    "Well, our dataset got significantly smaller, but we have almost 2000 observations ready to be tested."
   ]
  },
  {
   "cell_type": "markdown",
   "id": "cdf1d8f3",
   "metadata": {},
   "source": [
    "## 3.2 Checking extreme values"
   ]
  },
  {
   "cell_type": "markdown",
   "id": "b0aa6694",
   "metadata": {},
   "source": [
    "Outliers can affect the performance of our model, so we should check at least the distribution of the variables we want to investigate."
   ]
  },
  {
   "cell_type": "code",
   "execution_count": 17,
   "id": "e6ca7747",
   "metadata": {},
   "outputs": [
    {
     "name": "stderr",
     "output_type": "stream",
     "text": [
      "C:\\Users\\Simone\\AppData\\Local\\Temp\\ipykernel_10856\\3097751389.py:1: UserWarning: \n",
      "\n",
      "`distplot` is a deprecated function and will be removed in seaborn v0.14.0.\n",
      "\n",
      "Please adapt your code to use either `displot` (a figure-level function with\n",
      "similar flexibility) or `histplot` (an axes-level function for histograms).\n",
      "\n",
      "For a guide to updating your code to use the new functions, please see\n",
      "https://gist.github.com/mwaskom/de44147ed2974457ad6372750bbe5751\n",
      "\n",
      "  sns.distplot(df_co2_reg['CO2_emission'], bins=25)\n"
     ]
    },
    {
     "data": {
      "text/plain": [
       "<Axes: xlabel='CO2_emission', ylabel='Density'>"
      ]
     },
     "execution_count": 17,
     "metadata": {},
     "output_type": "execute_result"
    },
    {
     "data": {
      "image/png": "[encoded data removed]",
      "text/plain": [
       "<Figure size 640x480 with 1 Axes>"
      ]
     },
     "metadata": {},
     "output_type": "display_data"
    }
   ],
   "source": [
    "sns.distplot(df_co2_reg['CO2_emission'], bins=25)"
   ]
  },
  {
   "cell_type": "markdown",
   "id": "a57b9863",
   "metadata": {},
   "source": [
    "We already know that there are some high values related to United States and China. <br>\n",
    "Let's try to train our model on the complete dataset. If the results are poor, we will try removing outliers."
   ]
  },
  {
   "cell_type": "code",
   "execution_count": 18,
   "id": "5585a6c8",
   "metadata": {},
   "outputs": [
    {
     "name": "stderr",
     "output_type": "stream",
     "text": [
      "C:\\Users\\Simone\\AppData\\Local\\Temp\\ipykernel_10856\\1845994774.py:1: UserWarning: \n",
      "\n",
      "`distplot` is a deprecated function and will be removed in seaborn v0.14.0.\n",
      "\n",
      "Please adapt your code to use either `displot` (a figure-level function with\n",
      "similar flexibility) or `histplot` (an axes-level function for histograms).\n",
      "\n",
      "For a guide to updating your code to use the new functions, please see\n",
      "https://gist.github.com/mwaskom/de44147ed2974457ad6372750bbe5751\n",
      "\n",
      "  sns.distplot(df_co2_reg['Energy_consumption'], bins=25)\n"
     ]
    },
    {
     "data": {
      "text/plain": [
       "<Axes: xlabel='Energy_consumption', ylabel='Density'>"
      ]
     },
     "execution_count": 18,
     "metadata": {},
     "output_type": "execute_result"
    },
    {
     "data": {
      "image/png": "[encoded data removed]",
      "text/plain": [
       "<Figure size 640x480 with 1 Axes>"
      ]
     },
     "metadata": {},
     "output_type": "display_data"
    }
   ],
   "source": [
    "sns.distplot(df_co2_reg['Energy_consumption'], bins=25)"
   ]
  },
  {
   "cell_type": "markdown",
   "id": "5c0bf5e2",
   "metadata": {},
   "source": [
    "Same story with our Energy_consumption. Let's carry on for now, and see if we manage to improve our results later."
   ]
  },
  {
   "cell_type": "markdown",
   "id": "4f2fa221",
   "metadata": {},
   "source": [
    "# 4. Hypothesis definition\n",
    "** **"
   ]
  },
  {
   "cell_type": "markdown",
   "id": "8c7e884d",
   "metadata": {},
   "source": [
    "Back in script 2, I found an high correlation between \"Energy_consumption\" and \"CO2_emission\". <br>\n",
    "I also analyzed the two variables in a scatterplot and it appeared to me they had a linear relationship. <br>\n",
    "So, I defined my hypothesis as the following: <br>\n",
    "<br>\n",
    "<i> The average energy consumption of Countries with \"high\" CO2 emissions will be higher than the average energy consumption of Countries with \"low\" CO2 emissions </i>"
   ]
  },
  {
   "cell_type": "markdown",
   "id": "06ce7dd1",
   "metadata": {},
   "source": [
    "To simplify for the sake of this regression analysis, let's say that: <br>\n",
    "<br>\n",
    "<i>The higher the Energy consumption, the higher the CO2 emissions.</i>"
   ]
  },
  {
   "cell_type": "markdown",
   "id": "ebba5ca2",
   "metadata": {},
   "source": [
    "For reference, this is a scatterplot between the two variables:"
   ]
  },
  {
   "cell_type": "code",
   "execution_count": 19,
   "id": "d56887f5",
   "metadata": {},
   "outputs": [
    {
     "data": {
      "image/png": "[encoded data removed]",
      "text/plain": [
       "<Figure size 640x480 with 1 Axes>"
      ]
     },
     "metadata": {},
     "output_type": "display_data"
    }
   ],
   "source": [
    "df_co2_reg.plot(x = 'Energy_consumption', y = 'CO2_emission',style='o')\n",
    "plt.title('Relationship between Energy consumption and CO2 emissions')  \n",
    "plt.xlabel('Energy consumption (quad)')  \n",
    "plt.ylabel('CO2 emissions (milliontonnes)')  \n",
    "plt.show()"
   ]
  },
  {
   "cell_type": "markdown",
   "id": "9ad964d1",
   "metadata": {},
   "source": [
    "As you can see, besides a few outliers (China, United States and India) the relationship between the two variables seems linear."
   ]
  },
  {
   "cell_type": "markdown",
   "id": "01903a56",
   "metadata": {},
   "source": [
    "# 5. Regression analysis\n",
    "** **"
   ]
  },
  {
   "cell_type": "markdown",
   "id": "86e25585",
   "metadata": {},
   "source": [
    "## 5.1 Reshaping variables into NumPy arrays"
   ]
  },
  {
   "cell_type": "markdown",
   "id": "14ae7340",
   "metadata": {},
   "source": [
    "In order to use the scikit learn functions, we need to reshape our two variables into NumPy arrays. <br>\n",
    "Energy_consumption will be our independent variable (X) while CO2_emission will be our dependent variable (y)"
   ]
  },
  {
   "cell_type": "code",
   "execution_count": 20,
   "id": "a0aa920d",
   "metadata": {},
   "outputs": [],
   "source": [
    "# Turning the variables into arrays\n",
    "X = df_co2_reg['Energy_consumption'].values.reshape (-1, 1)\n",
    "y = df_co2_reg['CO2_emission'].values.reshape (-1, 1)"
   ]
  },
  {
   "cell_type": "markdown",
   "id": "313e7833",
   "metadata": {},
   "source": [
    "If know we check the output of the two variables, we will see that they will be arrays."
   ]
  },
  {
   "cell_type": "code",
   "execution_count": 21,
   "id": "549d0489",
   "metadata": {},
   "outputs": [
    {
     "data": {
      "text/plain": [
       "array([[0.03],\n",
       "       [0.01],\n",
       "       [0.07],\n",
       "       ...,\n",
       "       [0.05],\n",
       "       [0.05],\n",
       "       [0.06]])"
      ]
     },
     "execution_count": 21,
     "metadata": {},
     "output_type": "execute_result"
    }
   ],
   "source": [
    "X"
   ]
  },
  {
   "cell_type": "code",
   "execution_count": 22,
   "id": "65cb0380",
   "metadata": {},
   "outputs": [
    {
     "data": {
      "text/plain": [
       "array([[2.95],\n",
       "       [0.28],\n",
       "       [3.94],\n",
       "       ...,\n",
       "       [4.2 ],\n",
       "       [4.59],\n",
       "       [4.38]])"
      ]
     },
     "execution_count": 22,
     "metadata": {},
     "output_type": "execute_result"
    }
   ],
   "source": [
    "y"
   ]
  },
  {
   "cell_type": "markdown",
   "id": "0d8dd944",
   "metadata": {},
   "source": [
    "## 5.2 Splitting data"
   ]
  },
  {
   "cell_type": "markdown",
   "id": "12125242",
   "metadata": {},
   "source": [
    "To create our model we need to split our data into a training set (used to train the model) and a test set (to test the model). <br>\n",
    "The test data will contain only 30% of our observations"
   ]
  },
  {
   "cell_type": "code",
   "execution_count": 23,
   "id": "3428876c",
   "metadata": {},
   "outputs": [],
   "source": [
    "# Splitting data into a train set and a test set\n",
    "X_train, X_test, y_train, y_test = train_test_split(X, y, test_size=0.3, random_state=0)"
   ]
  },
  {
   "cell_type": "markdown",
   "id": "96b96b5f",
   "metadata": {},
   "source": [
    "## 5.3 Creating and fitting the regression object"
   ]
  },
  {
   "cell_type": "markdown",
   "id": "b79d229a",
   "metadata": {},
   "source": [
    "First of all, I will create a regression object using the LinearRegression function."
   ]
  },
  {
   "cell_type": "code",
   "execution_count": 24,
   "id": "9d12e078",
   "metadata": {},
   "outputs": [],
   "source": [
    "# Creating a regression object\n",
    "\n",
    "regression = LinearRegression()"
   ]
  },
  {
   "cell_type": "markdown",
   "id": "400a8664",
   "metadata": {},
   "source": [
    "No we will fill this object with the train set, to train our model."
   ]
  },
  {
   "cell_type": "code",
   "execution_count": 25,
   "id": "b8157f73",
   "metadata": {},
   "outputs": [
    {
     "data": {
      "text/html": [
       "<style>#sk-container-id-1 {color: black;background-color: white;}#sk-container-id-1 pre{padding: 0;}#sk-container-id-1 div.sk-toggleable {background-color: white;}#sk-container-id-1 label.sk-toggleable__label {cursor: pointer;display: block;width: 100%;margin-bottom: 0;padding: 0.3em;box-sizing: border-box;text-align: center;}#sk-container-id-1 label.sk-toggleable__label-arrow:before {content: \"▸\";float: left;margin-right: 0.25em;color: #696969;}#sk-container-id-1 label.sk-toggleable__label-arrow:hover:before {color: black;}#sk-container-id-1 div.sk-estimator:hover label.sk-toggleable__label-arrow:before {color: black;}#sk-container-id-1 div.sk-toggleable__content {max-height: 0;max-width: 0;overflow: hidden;text-align: left;background-color: #f0f8ff;}#sk-container-id-1 div.sk-toggleable__content pre {margin: 0.2em;color: black;border-radius: 0.25em;background-color: #f0f8ff;}#sk-container-id-1 input.sk-toggleable__control:checked~div.sk-toggleable__content {max-height: 200px;max-width: 100%;overflow: auto;}#sk-container-id-1 input.sk-toggleable__control:checked~label.sk-toggleable__label-arrow:before {content: \"▾\";}#sk-container-id-1 div.sk-estimator input.sk-toggleable__control:checked~label.sk-toggleable__label {background-color: #d4ebff;}#sk-container-id-1 div.sk-label input.sk-toggleable__control:checked~label.sk-toggleable__label {background-color: #d4ebff;}#sk-container-id-1 input.sk-hidden--visually {border: 0;clip: rect(1px 1px 1px 1px);clip: rect(1px, 1px, 1px, 1px);height: 1px;margin: -1px;overflow: hidden;padding: 0;position: absolute;width: 1px;}#sk-container-id-1 div.sk-estimator {font-family: monospace;background-color: #f0f8ff;border: 1px dotted black;border-radius: 0.25em;box-sizing: border-box;margin-bottom: 0.5em;}#sk-container-id-1 div.sk-estimator:hover {background-color: #d4ebff;}#sk-container-id-1 div.sk-parallel-item::after {content: \"\";width: 100%;border-bottom: 1px solid gray;flex-grow: 1;}#sk-container-id-1 div.sk-label:hover label.sk-toggleable__label {background-color: #d4ebff;}#sk-container-id-1 div.sk-serial::before {content: \"\";position: absolute;border-left: 1px solid gray;box-sizing: border-box;top: 0;bottom: 0;left: 50%;z-index: 0;}#sk-container-id-1 div.sk-serial {display: flex;flex-direction: column;align-items: center;background-color: white;padding-right: 0.2em;padding-left: 0.2em;position: relative;}#sk-container-id-1 div.sk-item {position: relative;z-index: 1;}#sk-container-id-1 div.sk-parallel {display: flex;align-items: stretch;justify-content: center;background-color: white;position: relative;}#sk-container-id-1 div.sk-item::before, #sk-container-id-1 div.sk-parallel-item::before {content: \"\";position: absolute;border-left: 1px solid gray;box-sizing: border-box;top: 0;bottom: 0;left: 50%;z-index: -1;}#sk-container-id-1 div.sk-parallel-item {display: flex;flex-direction: column;z-index: 1;position: relative;background-color: white;}#sk-container-id-1 div.sk-parallel-item:first-child::after {align-self: flex-end;width: 50%;}#sk-container-id-1 div.sk-parallel-item:last-child::after {align-self: flex-start;width: 50%;}#sk-container-id-1 div.sk-parallel-item:only-child::after {width: 0;}#sk-container-id-1 div.sk-dashed-wrapped {border: 1px dashed gray;margin: 0 0.4em 0.5em 0.4em;box-sizing: border-box;padding-bottom: 0.4em;background-color: white;}#sk-container-id-1 div.sk-label label {font-family: monospace;font-weight: bold;display: inline-block;line-height: 1.2em;}#sk-container-id-1 div.sk-label-container {text-align: center;}#sk-container-id-1 div.sk-container {/* jupyter's `normalize.less` sets `[hidden] { display: none; }` but bootstrap.min.css set `[hidden] { display: none !important; }` so we also need the `!important` here to be able to override the default hidden behavior on the sphinx rendered scikit-learn.org. See: https://github.com/scikit-learn/scikit-learn/issues/21755 */display: inline-block !important;position: relative;}#sk-container-id-1 div.sk-text-repr-fallback {display: none;}</style><div id=\"sk-container-id-1\" class=\"sk-top-container\"><div class=\"sk-text-repr-fallback\"><pre>LinearRegression()</pre><b>In a Jupyter environment, please rerun this cell to show the HTML representation or trust the notebook. <br />On GitHub, the HTML representation is unable to render, please try loading this page with nbviewer.org.</b></div><div class=\"sk-container\" hidden><div class=\"sk-item\"><div class=\"sk-estimator sk-toggleable\"><input class=\"sk-toggleable__control sk-hidden--visually\" id=\"sk-estimator-id-1\" type=\"checkbox\" checked><label for=\"sk-estimator-id-1\" class=\"sk-toggleable__label sk-toggleable__label-arrow\">LinearRegression</label><div class=\"sk-toggleable__content\"><pre>LinearRegression()</pre></div></div></div></div></div>"
      ],
      "text/plain": [
       "LinearRegression()"
      ]
     },
     "execution_count": 25,
     "metadata": {},
     "output_type": "execute_result"
    }
   ],
   "source": [
    "# Filling the regression object\n",
    "regression.fit(X_train, y_train)"
   ]
  },
  {
   "cell_type": "markdown",
   "id": "4cf8059c",
   "metadata": {},
   "source": [
    "## 5.4 Testing predictions"
   ]
  },
  {
   "cell_type": "markdown",
   "id": "ab2a79b1",
   "metadata": {},
   "source": [
    "Now that our model is trained, it's time to unleash its power and predict our dependant variable (y) values, based on our independent variable (x) values."
   ]
  },
  {
   "cell_type": "code",
   "execution_count": 26,
   "id": "8faea116",
   "metadata": {},
   "outputs": [],
   "source": [
    "# Creating predictions based on X values from test set\n",
    "y_predicted = regression.predict(X_test)"
   ]
  },
  {
   "cell_type": "markdown",
   "id": "b6f7e354",
   "metadata": {},
   "source": [
    "Let's create a scatterplot to see of our model predicted the y values for our test data."
   ]
  },
  {
   "cell_type": "code",
   "execution_count": 27,
   "id": "b1a2cdeb",
   "metadata": {},
   "outputs": [
    {
     "data": {
      "image/png": "[encoded data removed]",
      "text/plain": [
       "<Figure size 640x480 with 1 Axes>"
      ]
     },
     "metadata": {},
     "output_type": "display_data"
    }
   ],
   "source": [
    "plot_test = plt\n",
    "plot_test.scatter(X_test, y_test, color='blue', s = 15)\n",
    "plot_test.plot(X_test, y_predicted, color='red', linewidth =3)\n",
    "plot_test.title('Relationship between Energy consumption and CO2 emissions (Test set)')\n",
    "plot_test.xlabel('Energy consumption (quad)')\n",
    "plot_test.ylabel('CO2 emissions (milliontonnes)')\n",
    "plot_test.show()"
   ]
  },
  {
   "cell_type": "markdown",
   "id": "f6476bc1",
   "metadata": {},
   "source": [
    "The red line represents y values predicted, based on x values. <br>\n",
    "There are still some datapoints a little far from our predictions, because of some high CO2 values as explained earlier. <br>\n",
    "It would be worthy to improve the model after removing these datapoints."
   ]
  },
  {
   "cell_type": "markdown",
   "id": "3c487719",
   "metadata": {},
   "source": [
    "## 5.5 Summary statistics"
   ]
  },
  {
   "cell_type": "markdown",
   "id": "976bb3f3",
   "metadata": {},
   "source": [
    "To see how well the model performed (besides the chart above) we can check some summary statistics."
   ]
  },
  {
   "cell_type": "code",
   "execution_count": 28,
   "id": "0325677e",
   "metadata": {},
   "outputs": [],
   "source": [
    "# Creating objects for mean squared error and r squared value.\n",
    "\n",
    "rmse = mean_squared_error(y_test, y_predicted)\n",
    "r2 = r2_score(y_test, y_predicted)"
   ]
  },
  {
   "cell_type": "code",
   "execution_count": 29,
   "id": "0777f8f3",
   "metadata": {},
   "outputs": [
    {
     "name": "stdout",
     "output_type": "stream",
     "text": [
      "Slope: [[84.05820491]]\n",
      "Mean squared error:  8870.515859581694\n",
      "R squared score:  0.9450539044403944\n"
     ]
    }
   ],
   "source": [
    "# Printing the content\n",
    "print('Slope:' ,regression.coef_)\n",
    "print('Mean squared error: ', rmse)\n",
    "print('R squared score: ', r2)"
   ]
  },
  {
   "cell_type": "markdown",
   "id": "0d7fba06",
   "metadata": {},
   "source": [
    "The slope tells us how much the y values change when x value change. <br>\n",
    "A positive slope indicates that the two variables are in a positive relationship: as x increase, y increase as well. <br>\n",
    "<br>\n",
    "The mean squared error represents how accurate are our predictions. It's the average of the squared distance between the predicted values and the actual values. it's a little high. Let's see if can be improved with a new test. <br>\n",
    "<br>\n",
    "The R squared score represent how strong is the relationship. <br>\n",
    "We already investigated the correlation between these two variables and we already know the relationship is strong."
   ]
  },
  {
   "cell_type": "markdown",
   "id": "a8e969f1",
   "metadata": {},
   "source": [
    "## 5.6 Comparing actual values and predicted values"
   ]
  },
  {
   "cell_type": "code",
   "execution_count": 30,
   "id": "891d9a83",
   "metadata": {},
   "outputs": [
    {
     "data": {
      "text/html": [
       "<div>\n",
       "<style scoped>\n",
       "    .dataframe tbody tr th:only-of-type {\n",
       "        vertical-align: middle;\n",
       "    }\n",
       "\n",
       "    .dataframe tbody tr th {\n",
       "        vertical-align: top;\n",
       "    }\n",
       "\n",
       "    .dataframe thead th {\n",
       "        text-align: right;\n",
       "    }\n",
       "</style>\n",
       "<table border=\"1\" class=\"dataframe\">\n",
       "  <thead>\n",
       "    <tr style=\"text-align: right;\">\n",
       "      <th></th>\n",
       "      <th>Actual</th>\n",
       "      <th>Predicted</th>\n",
       "    </tr>\n",
       "  </thead>\n",
       "  <tbody>\n",
       "    <tr>\n",
       "      <th>0</th>\n",
       "      <td>10.47</td>\n",
       "      <td>-6.723545</td>\n",
       "    </tr>\n",
       "    <tr>\n",
       "      <th>1</th>\n",
       "      <td>20.89</td>\n",
       "      <td>-6.723545</td>\n",
       "    </tr>\n",
       "    <tr>\n",
       "      <th>2</th>\n",
       "      <td>0.65</td>\n",
       "      <td>-17.651112</td>\n",
       "    </tr>\n",
       "    <tr>\n",
       "      <th>3</th>\n",
       "      <td>92.01</td>\n",
       "      <td>131.972493</td>\n",
       "    </tr>\n",
       "    <tr>\n",
       "      <th>4</th>\n",
       "      <td>6.80</td>\n",
       "      <td>-7.564127</td>\n",
       "    </tr>\n",
       "    <tr>\n",
       "      <th>5</th>\n",
       "      <td>5.45</td>\n",
       "      <td>-12.607619</td>\n",
       "    </tr>\n",
       "    <tr>\n",
       "      <th>6</th>\n",
       "      <td>1.54</td>\n",
       "      <td>-16.810530</td>\n",
       "    </tr>\n",
       "    <tr>\n",
       "      <th>7</th>\n",
       "      <td>5.07</td>\n",
       "      <td>-10.085873</td>\n",
       "    </tr>\n",
       "    <tr>\n",
       "      <th>8</th>\n",
       "      <td>1.53</td>\n",
       "      <td>-16.810530</td>\n",
       "    </tr>\n",
       "    <tr>\n",
       "      <th>9</th>\n",
       "      <td>40.13</td>\n",
       "      <td>35.305557</td>\n",
       "    </tr>\n",
       "    <tr>\n",
       "      <th>10</th>\n",
       "      <td>1.08</td>\n",
       "      <td>-15.129366</td>\n",
       "    </tr>\n",
       "    <tr>\n",
       "      <th>11</th>\n",
       "      <td>215.12</td>\n",
       "      <td>235.364085</td>\n",
       "    </tr>\n",
       "    <tr>\n",
       "      <th>12</th>\n",
       "      <td>7.07</td>\n",
       "      <td>-7.564127</td>\n",
       "    </tr>\n",
       "    <tr>\n",
       "      <th>13</th>\n",
       "      <td>3.25</td>\n",
       "      <td>-16.810530</td>\n",
       "    </tr>\n",
       "    <tr>\n",
       "      <th>14</th>\n",
       "      <td>11.21</td>\n",
       "      <td>-10.926455</td>\n",
       "    </tr>\n",
       "    <tr>\n",
       "      <th>15</th>\n",
       "      <td>0.88</td>\n",
       "      <td>-17.651112</td>\n",
       "    </tr>\n",
       "    <tr>\n",
       "      <th>16</th>\n",
       "      <td>4.52</td>\n",
       "      <td>-10.926455</td>\n",
       "    </tr>\n",
       "    <tr>\n",
       "      <th>17</th>\n",
       "      <td>33.15</td>\n",
       "      <td>18.493916</td>\n",
       "    </tr>\n",
       "    <tr>\n",
       "      <th>18</th>\n",
       "      <td>17.20</td>\n",
       "      <td>1.682275</td>\n",
       "    </tr>\n",
       "    <tr>\n",
       "      <th>19</th>\n",
       "      <td>3.66</td>\n",
       "      <td>-14.288784</td>\n",
       "    </tr>\n",
       "    <tr>\n",
       "      <th>20</th>\n",
       "      <td>95.44</td>\n",
       "      <td>88.262226</td>\n",
       "    </tr>\n",
       "    <tr>\n",
       "      <th>21</th>\n",
       "      <td>95.90</td>\n",
       "      <td>100.030375</td>\n",
       "    </tr>\n",
       "    <tr>\n",
       "      <th>22</th>\n",
       "      <td>1.06</td>\n",
       "      <td>-17.651112</td>\n",
       "    </tr>\n",
       "    <tr>\n",
       "      <th>23</th>\n",
       "      <td>20.42</td>\n",
       "      <td>13.450424</td>\n",
       "    </tr>\n",
       "    <tr>\n",
       "      <th>24</th>\n",
       "      <td>9.94</td>\n",
       "      <td>-10.085873</td>\n",
       "    </tr>\n",
       "    <tr>\n",
       "      <th>25</th>\n",
       "      <td>36.92</td>\n",
       "      <td>38.667886</td>\n",
       "    </tr>\n",
       "    <tr>\n",
       "      <th>26</th>\n",
       "      <td>25.22</td>\n",
       "      <td>3.363439</td>\n",
       "    </tr>\n",
       "    <tr>\n",
       "      <th>27</th>\n",
       "      <td>1.13</td>\n",
       "      <td>-17.651112</td>\n",
       "    </tr>\n",
       "    <tr>\n",
       "      <th>28</th>\n",
       "      <td>313.89</td>\n",
       "      <td>395.915256</td>\n",
       "    </tr>\n",
       "    <tr>\n",
       "      <th>29</th>\n",
       "      <td>9.61</td>\n",
       "      <td>-3.361217</td>\n",
       "    </tr>\n",
       "  </tbody>\n",
       "</table>\n",
       "</div>"
      ],
      "text/plain": [
       "    Actual   Predicted\n",
       "0    10.47   -6.723545\n",
       "1    20.89   -6.723545\n",
       "2     0.65  -17.651112\n",
       "3    92.01  131.972493\n",
       "4     6.80   -7.564127\n",
       "5     5.45  -12.607619\n",
       "6     1.54  -16.810530\n",
       "7     5.07  -10.085873\n",
       "8     1.53  -16.810530\n",
       "9    40.13   35.305557\n",
       "10    1.08  -15.129366\n",
       "11  215.12  235.364085\n",
       "12    7.07   -7.564127\n",
       "13    3.25  -16.810530\n",
       "14   11.21  -10.926455\n",
       "15    0.88  -17.651112\n",
       "16    4.52  -10.926455\n",
       "17   33.15   18.493916\n",
       "18   17.20    1.682275\n",
       "19    3.66  -14.288784\n",
       "20   95.44   88.262226\n",
       "21   95.90  100.030375\n",
       "22    1.06  -17.651112\n",
       "23   20.42   13.450424\n",
       "24    9.94  -10.085873\n",
       "25   36.92   38.667886\n",
       "26   25.22    3.363439\n",
       "27    1.13  -17.651112\n",
       "28  313.89  395.915256\n",
       "29    9.61   -3.361217"
      ]
     },
     "execution_count": 30,
     "metadata": {},
     "output_type": "execute_result"
    }
   ],
   "source": [
    "df_co2_reg_comparison = pd.DataFrame({'Actual': y_test.flatten(), 'Predicted': y_predicted.flatten()})\n",
    "df_co2_reg_comparison.head(30)"
   ]
  },
  {
   "cell_type": "markdown",
   "id": "044b761f",
   "metadata": {},
   "source": [
    "Something is definitely off. Whenever an actual value is very low (like under 10) the predicted value is negative. <br>\n",
    "However, when it comes to value around 90, the predictions is more accurate. <br>\n",
    "The extreme values definitely skewed the results. We need to improve our regression analysis."
   ]
  },
  {
   "cell_type": "markdown",
   "id": "1b162f73",
   "metadata": {},
   "source": [
    "# 6. Improving the regression\n",
    "** **"
   ]
  },
  {
   "cell_type": "markdown",
   "id": "19eaf322",
   "metadata": {},
   "source": [
    "## 6.1 Removing outliers"
   ]
  },
  {
   "cell_type": "markdown",
   "id": "ce1f61b9",
   "metadata": {},
   "source": [
    "So, we already know that there are some extreme values in our two variables. Let's restrict our dataframe."
   ]
  },
  {
   "cell_type": "code",
   "execution_count": 31,
   "id": "87963746",
   "metadata": {},
   "outputs": [],
   "source": [
    "# Removing extreme values\n",
    "df_co2_reg_filter = df_co2_reg[df_co2_reg['CO2_emission'] <= 800]"
   ]
  },
  {
   "cell_type": "code",
   "execution_count": 32,
   "id": "1342ac23",
   "metadata": {},
   "outputs": [
    {
     "name": "stderr",
     "output_type": "stream",
     "text": [
      "C:\\Users\\Simone\\AppData\\Local\\Temp\\ipykernel_10856\\3364717643.py:2: UserWarning: \n",
      "\n",
      "`distplot` is a deprecated function and will be removed in seaborn v0.14.0.\n",
      "\n",
      "Please adapt your code to use either `displot` (a figure-level function with\n",
      "similar flexibility) or `histplot` (an axes-level function for histograms).\n",
      "\n",
      "For a guide to updating your code to use the new functions, please see\n",
      "https://gist.github.com/mwaskom/de44147ed2974457ad6372750bbe5751\n",
      "\n",
      "  sns.distplot(df_co2_reg_filter['CO2_emission'], bins=25)\n"
     ]
    },
    {
     "data": {
      "text/plain": [
       "<Axes: xlabel='CO2_emission', ylabel='Density'>"
      ]
     },
     "execution_count": 32,
     "metadata": {},
     "output_type": "execute_result"
    },
    {
     "data": {
      "image/png": "[encoded data removed]",
      "text/plain": [
       "<Figure size 640x480 with 1 Axes>"
      ]
     },
     "metadata": {},
     "output_type": "display_data"
    }
   ],
   "source": [
    "# Checking again the distribution\n",
    "sns.distplot(df_co2_reg_filter['CO2_emission'], bins=25)"
   ]
  },
  {
   "cell_type": "markdown",
   "id": "76bf60c7",
   "metadata": {},
   "source": [
    "It seems better. Let's check the shape of our new dataframe."
   ]
  },
  {
   "cell_type": "code",
   "execution_count": 33,
   "id": "bfed8bce",
   "metadata": {},
   "outputs": [
    {
     "data": {
      "text/plain": [
       "(1925, 13)"
      ]
     },
     "execution_count": 33,
     "metadata": {},
     "output_type": "execute_result"
    }
   ],
   "source": [
    "df_co2_reg_filter.shape"
   ]
  },
  {
   "cell_type": "markdown",
   "id": "c6a8d6c9",
   "metadata": {},
   "source": [
    "Only 35 observations less! I think we successfully removed our outliers. <br>\n",
    "Let's check the new distribution of our Energy consumption variable as well."
   ]
  },
  {
   "cell_type": "code",
   "execution_count": 34,
   "id": "8025f5ff",
   "metadata": {},
   "outputs": [
    {
     "name": "stderr",
     "output_type": "stream",
     "text": [
      "C:\\Users\\Simone\\AppData\\Local\\Temp\\ipykernel_10856\\3117754691.py:2: UserWarning: \n",
      "\n",
      "`distplot` is a deprecated function and will be removed in seaborn v0.14.0.\n",
      "\n",
      "Please adapt your code to use either `displot` (a figure-level function with\n",
      "similar flexibility) or `histplot` (an axes-level function for histograms).\n",
      "\n",
      "For a guide to updating your code to use the new functions, please see\n",
      "https://gist.github.com/mwaskom/de44147ed2974457ad6372750bbe5751\n",
      "\n",
      "  sns.distplot(df_co2_reg_filter['Energy_consumption'], bins=25)\n"
     ]
    },
    {
     "data": {
      "text/plain": [
       "<Axes: xlabel='Energy_consumption', ylabel='Density'>"
      ]
     },
     "execution_count": 34,
     "metadata": {},
     "output_type": "execute_result"
    },
    {
     "data": {
      "image/png": "[encoded data removed]",
      "text/plain": [
       "<Figure size 640x480 with 1 Axes>"
      ]
     },
     "metadata": {},
     "output_type": "display_data"
    }
   ],
   "source": [
    "# Checking again the distribution\n",
    "sns.distplot(df_co2_reg_filter['Energy_consumption'], bins=25)"
   ]
  },
  {
   "cell_type": "markdown",
   "id": "412db0c9",
   "metadata": {},
   "source": [
    "The distribution changed here as well. Nice! Now I would like to take a look at the scatterplot."
   ]
  },
  {
   "cell_type": "code",
   "execution_count": 35,
   "id": "eceea6a5",
   "metadata": {},
   "outputs": [
    {
     "data": {
      "image/png": "[encoded data removed]",
      "text/plain": [
       "<Figure size 640x480 with 1 Axes>"
      ]
     },
     "metadata": {},
     "output_type": "display_data"
    }
   ],
   "source": [
    "# Creating a new scatterplot after removing outliers\n",
    "df_co2_reg_filter.plot(x = 'Energy_consumption', y = 'CO2_emission',style='o')\n",
    "plt.title('Relationship between Energy consumption and CO2 emissions')  \n",
    "plt.xlabel('Energy consumption (quad)')  \n",
    "plt.ylabel('CO2 emissions (milliontonnes)')  \n",
    "plt.show()"
   ]
  },
  {
   "cell_type": "markdown",
   "id": "bd7bc206",
   "metadata": {},
   "source": [
    "This chart, despite having only 35 datapoints less, gives us a better understanding of the relationship between the two variables. <br>\n",
    "I am ready to a new regression!"
   ]
  },
  {
   "cell_type": "markdown",
   "id": "6818f3e2",
   "metadata": {},
   "source": [
    "## 6.2 Reshaping variables into NumPy arrays"
   ]
  },
  {
   "cell_type": "markdown",
   "id": "0dbe5ee1",
   "metadata": {},
   "source": [
    "Let's proceed again with all the steps. Let's start with reshaping our variables."
   ]
  },
  {
   "cell_type": "code",
   "execution_count": 36,
   "id": "ada270b3",
   "metadata": {},
   "outputs": [],
   "source": [
    "# Turning the variables into arrays\n",
    "X_2 = df_co2_reg_filter['Energy_consumption'].values.reshape (-1, 1)\n",
    "y_2 = df_co2_reg_filter['CO2_emission'].values.reshape (-1, 1)"
   ]
  },
  {
   "cell_type": "code",
   "execution_count": 37,
   "id": "5e866462",
   "metadata": {},
   "outputs": [
    {
     "data": {
      "text/plain": [
       "array([[0.03],\n",
       "       [0.01],\n",
       "       [0.07],\n",
       "       ...,\n",
       "       [0.05],\n",
       "       [0.05],\n",
       "       [0.06]])"
      ]
     },
     "execution_count": 37,
     "metadata": {},
     "output_type": "execute_result"
    }
   ],
   "source": [
    "# Testing the output\n",
    "X_2"
   ]
  },
  {
   "cell_type": "code",
   "execution_count": 38,
   "id": "b37ebc9b",
   "metadata": {},
   "outputs": [
    {
     "data": {
      "text/plain": [
       "array([[2.95],\n",
       "       [0.28],\n",
       "       [3.94],\n",
       "       ...,\n",
       "       [4.2 ],\n",
       "       [4.59],\n",
       "       [4.38]])"
      ]
     },
     "execution_count": 38,
     "metadata": {},
     "output_type": "execute_result"
    }
   ],
   "source": [
    "# Testing the output\n",
    "y_2"
   ]
  },
  {
   "cell_type": "markdown",
   "id": "8e7ffb9a",
   "metadata": {},
   "source": [
    "## 6.3 Splitting data"
   ]
  },
  {
   "cell_type": "code",
   "execution_count": 39,
   "id": "cb0e20c8",
   "metadata": {},
   "outputs": [],
   "source": [
    "# Splitting data into a train set and a test set\n",
    "X_train_2, X_test_2, y_train_2, y_test_2 = train_test_split(X_2, y_2, test_size=0.3, random_state=0)"
   ]
  },
  {
   "cell_type": "markdown",
   "id": "4846918d",
   "metadata": {},
   "source": [
    "## 6.4 Creating and fitting the regression object"
   ]
  },
  {
   "cell_type": "code",
   "execution_count": 40,
   "id": "e750f589",
   "metadata": {},
   "outputs": [],
   "source": [
    "# Creating a regression object\n",
    "\n",
    "regression_2 = LinearRegression()"
   ]
  },
  {
   "cell_type": "markdown",
   "id": "2bdecea6",
   "metadata": {},
   "source": [
    "Now let's fill our bbject with the new train data."
   ]
  },
  {
   "cell_type": "code",
   "execution_count": 41,
   "id": "5e7baa89",
   "metadata": {},
   "outputs": [
    {
     "data": {
      "text/html": [
       "<style>#sk-container-id-2 {color: black;background-color: white;}#sk-container-id-2 pre{padding: 0;}#sk-container-id-2 div.sk-toggleable {background-color: white;}#sk-container-id-2 label.sk-toggleable__label {cursor: pointer;display: block;width: 100%;margin-bottom: 0;padding: 0.3em;box-sizing: border-box;text-align: center;}#sk-container-id-2 label.sk-toggleable__label-arrow:before {content: \"▸\";float: left;margin-right: 0.25em;color: #696969;}#sk-container-id-2 label.sk-toggleable__label-arrow:hover:before {color: black;}#sk-container-id-2 div.sk-estimator:hover label.sk-toggleable__label-arrow:before {color: black;}#sk-container-id-2 div.sk-toggleable__content {max-height: 0;max-width: 0;overflow: hidden;text-align: left;background-color: #f0f8ff;}#sk-container-id-2 div.sk-toggleable__content pre {margin: 0.2em;color: black;border-radius: 0.25em;background-color: #f0f8ff;}#sk-container-id-2 input.sk-toggleable__control:checked~div.sk-toggleable__content {max-height: 200px;max-width: 100%;overflow: auto;}#sk-container-id-2 input.sk-toggleable__control:checked~label.sk-toggleable__label-arrow:before {content: \"▾\";}#sk-container-id-2 div.sk-estimator input.sk-toggleable__control:checked~label.sk-toggleable__label {background-color: #d4ebff;}#sk-container-id-2 div.sk-label input.sk-toggleable__control:checked~label.sk-toggleable__label {background-color: #d4ebff;}#sk-container-id-2 input.sk-hidden--visually {border: 0;clip: rect(1px 1px 1px 1px);clip: rect(1px, 1px, 1px, 1px);height: 1px;margin: -1px;overflow: hidden;padding: 0;position: absolute;width: 1px;}#sk-container-id-2 div.sk-estimator {font-family: monospace;background-color: #f0f8ff;border: 1px dotted black;border-radius: 0.25em;box-sizing: border-box;margin-bottom: 0.5em;}#sk-container-id-2 div.sk-estimator:hover {background-color: #d4ebff;}#sk-container-id-2 div.sk-parallel-item::after {content: \"\";width: 100%;border-bottom: 1px solid gray;flex-grow: 1;}#sk-container-id-2 div.sk-label:hover label.sk-toggleable__label {background-color: #d4ebff;}#sk-container-id-2 div.sk-serial::before {content: \"\";position: absolute;border-left: 1px solid gray;box-sizing: border-box;top: 0;bottom: 0;left: 50%;z-index: 0;}#sk-container-id-2 div.sk-serial {display: flex;flex-direction: column;align-items: center;background-color: white;padding-right: 0.2em;padding-left: 0.2em;position: relative;}#sk-container-id-2 div.sk-item {position: relative;z-index: 1;}#sk-container-id-2 div.sk-parallel {display: flex;align-items: stretch;justify-content: center;background-color: white;position: relative;}#sk-container-id-2 div.sk-item::before, #sk-container-id-2 div.sk-parallel-item::before {content: \"\";position: absolute;border-left: 1px solid gray;box-sizing: border-box;top: 0;bottom: 0;left: 50%;z-index: -1;}#sk-container-id-2 div.sk-parallel-item {display: flex;flex-direction: column;z-index: 1;position: relative;background-color: white;}#sk-container-id-2 div.sk-parallel-item:first-child::after {align-self: flex-end;width: 50%;}#sk-container-id-2 div.sk-parallel-item:last-child::after {align-self: flex-start;width: 50%;}#sk-container-id-2 div.sk-parallel-item:only-child::after {width: 0;}#sk-container-id-2 div.sk-dashed-wrapped {border: 1px dashed gray;margin: 0 0.4em 0.5em 0.4em;box-sizing: border-box;padding-bottom: 0.4em;background-color: white;}#sk-container-id-2 div.sk-label label {font-family: monospace;font-weight: bold;display: inline-block;line-height: 1.2em;}#sk-container-id-2 div.sk-label-container {text-align: center;}#sk-container-id-2 div.sk-container {/* jupyter's `normalize.less` sets `[hidden] { display: none; }` but bootstrap.min.css set `[hidden] { display: none !important; }` so we also need the `!important` here to be able to override the default hidden behavior on the sphinx rendered scikit-learn.org. See: https://github.com/scikit-learn/scikit-learn/issues/21755 */display: inline-block !important;position: relative;}#sk-container-id-2 div.sk-text-repr-fallback {display: none;}</style><div id=\"sk-container-id-2\" class=\"sk-top-container\"><div class=\"sk-text-repr-fallback\"><pre>LinearRegression()</pre><b>In a Jupyter environment, please rerun this cell to show the HTML representation or trust the notebook. <br />On GitHub, the HTML representation is unable to render, please try loading this page with nbviewer.org.</b></div><div class=\"sk-container\" hidden><div class=\"sk-item\"><div class=\"sk-estimator sk-toggleable\"><input class=\"sk-toggleable__control sk-hidden--visually\" id=\"sk-estimator-id-2\" type=\"checkbox\" checked><label for=\"sk-estimator-id-2\" class=\"sk-toggleable__label sk-toggleable__label-arrow\">LinearRegression</label><div class=\"sk-toggleable__content\"><pre>LinearRegression()</pre></div></div></div></div></div>"
      ],
      "text/plain": [
       "LinearRegression()"
      ]
     },
     "execution_count": 41,
     "metadata": {},
     "output_type": "execute_result"
    }
   ],
   "source": [
    "# Filling the regression object\n",
    "regression_2.fit(X_train_2, y_train_2)"
   ]
  },
  {
   "cell_type": "markdown",
   "id": "acea7a46",
   "metadata": {},
   "source": [
    "## 6.5 Testing predictions"
   ]
  },
  {
   "cell_type": "code",
   "execution_count": 42,
   "id": "794fade8",
   "metadata": {},
   "outputs": [],
   "source": [
    "# Creating predictions based on X values from test set\n",
    "y_predicted_2 = regression_2.predict(X_test_2)"
   ]
  },
  {
   "cell_type": "markdown",
   "id": "87e90d16",
   "metadata": {},
   "source": [
    "The moment of the truth. Let's create our brand new scatterplot with our brand new regression line."
   ]
  },
  {
   "cell_type": "code",
   "execution_count": 43,
   "id": "c7216980",
   "metadata": {},
   "outputs": [
    {
     "data": {
      "image/png": "[encoded data removed]",
      "text/plain": [
       "<Figure size 640x480 with 1 Axes>"
      ]
     },
     "metadata": {},
     "output_type": "display_data"
    }
   ],
   "source": [
    "plot_test_2 = plt\n",
    "plot_test_2.scatter(X_test_2, y_test_2, color='blue', s = 15)\n",
    "plot_test_2.plot(X_test_2, y_predicted_2, color='red', linewidth =3)\n",
    "plot_test_2.title('Relationship between Energy consumption and CO2 emissions (Test set)')\n",
    "plot_test_2.xlabel('Energy consumption (quad)')\n",
    "plot_test_2.ylabel('CO2 emissions (milliontonnes)')\n",
    "plot_test_2.show()"
   ]
  },
  {
   "cell_type": "markdown",
   "id": "6ba81381",
   "metadata": {},
   "source": [
    "Judging from the look of it, the accuracy of our new model should be higher. <br>\n",
    "All datapoints are relatively closer to the regression line. <br>\n",
    "To back our hypothesis, let's look at some summary data."
   ]
  },
  {
   "cell_type": "markdown",
   "id": "7eac03fb",
   "metadata": {},
   "source": [
    "## 6.6 Summary statistics"
   ]
  },
  {
   "cell_type": "code",
   "execution_count": 44,
   "id": "23697bc9",
   "metadata": {},
   "outputs": [],
   "source": [
    "# Creating objects for mean squared error and r squared value.\n",
    "\n",
    "rmse_2 = mean_squared_error(y_test_2, y_predicted_2)\n",
    "r2_2 = r2_score(y_test_2, y_predicted_2)"
   ]
  },
  {
   "cell_type": "code",
   "execution_count": 45,
   "id": "b3d492a2",
   "metadata": {},
   "outputs": [
    {
     "name": "stdout",
     "output_type": "stream",
     "text": [
      "Slope: [[60.42581119]]\n",
      "Mean squared error:  309.57069173857417\n",
      "R squared score:  0.9434908095433668\n"
     ]
    }
   ],
   "source": [
    "# Printing the content\n",
    "print('Slope:' ,regression_2.coef_)\n",
    "print('Mean squared error: ', rmse_2)\n",
    "print('R squared score: ', r2_2)"
   ]
  },
  {
   "cell_type": "markdown",
   "id": "ac0ce7a2",
   "metadata": {},
   "source": [
    "The slope decreased a little bit, but it still indicates (of course) a positive relationship. <br>\n",
    "The mean squared error decreased drastically, so we can say our new model is definitely more accurate than the previous. <br>\n",
    "The R squared value is still indicating a strong relationship between the two values."
   ]
  },
  {
   "cell_type": "markdown",
   "id": "0188d895",
   "metadata": {},
   "source": [
    "# 6.7 Comparing actual values and predicted values"
   ]
  },
  {
   "cell_type": "markdown",
   "id": "521b5f45",
   "metadata": {},
   "source": [
    "Let's conclude our analysis by looking at a comparison between actual values and predicted values."
   ]
  },
  {
   "cell_type": "code",
   "execution_count": 46,
   "id": "8fefd533",
   "metadata": {},
   "outputs": [
    {
     "data": {
      "text/html": [
       "<div>\n",
       "<style scoped>\n",
       "    .dataframe tbody tr th:only-of-type {\n",
       "        vertical-align: middle;\n",
       "    }\n",
       "\n",
       "    .dataframe tbody tr th {\n",
       "        vertical-align: top;\n",
       "    }\n",
       "\n",
       "    .dataframe thead th {\n",
       "        text-align: right;\n",
       "    }\n",
       "</style>\n",
       "<table border=\"1\" class=\"dataframe\">\n",
       "  <thead>\n",
       "    <tr style=\"text-align: right;\">\n",
       "      <th></th>\n",
       "      <th>Actual</th>\n",
       "      <th>Predicted</th>\n",
       "    </tr>\n",
       "  </thead>\n",
       "  <tbody>\n",
       "    <tr>\n",
       "      <th>0</th>\n",
       "      <td>0.73</td>\n",
       "      <td>3.720899</td>\n",
       "    </tr>\n",
       "    <tr>\n",
       "      <th>1</th>\n",
       "      <td>10.30</td>\n",
       "      <td>8.554963</td>\n",
       "    </tr>\n",
       "    <tr>\n",
       "      <th>2</th>\n",
       "      <td>0.85</td>\n",
       "      <td>3.720899</td>\n",
       "    </tr>\n",
       "    <tr>\n",
       "      <th>3</th>\n",
       "      <td>4.32</td>\n",
       "      <td>6.137931</td>\n",
       "    </tr>\n",
       "    <tr>\n",
       "      <th>4</th>\n",
       "      <td>192.88</td>\n",
       "      <td>184.394074</td>\n",
       "    </tr>\n",
       "    <tr>\n",
       "      <th>5</th>\n",
       "      <td>3.08</td>\n",
       "      <td>7.950705</td>\n",
       "    </tr>\n",
       "    <tr>\n",
       "      <th>6</th>\n",
       "      <td>32.96</td>\n",
       "      <td>27.891223</td>\n",
       "    </tr>\n",
       "    <tr>\n",
       "      <th>7</th>\n",
       "      <td>1.30</td>\n",
       "      <td>4.325157</td>\n",
       "    </tr>\n",
       "    <tr>\n",
       "      <th>8</th>\n",
       "      <td>2.53</td>\n",
       "      <td>4.325157</td>\n",
       "    </tr>\n",
       "    <tr>\n",
       "      <th>9</th>\n",
       "      <td>0.32</td>\n",
       "      <td>3.720899</td>\n",
       "    </tr>\n",
       "    <tr>\n",
       "      <th>10</th>\n",
       "      <td>21.81</td>\n",
       "      <td>22.452900</td>\n",
       "    </tr>\n",
       "    <tr>\n",
       "      <th>11</th>\n",
       "      <td>16.00</td>\n",
       "      <td>21.848642</td>\n",
       "    </tr>\n",
       "    <tr>\n",
       "      <th>12</th>\n",
       "      <td>149.50</td>\n",
       "      <td>140.283232</td>\n",
       "    </tr>\n",
       "    <tr>\n",
       "      <th>13</th>\n",
       "      <td>2.57</td>\n",
       "      <td>6.137931</td>\n",
       "    </tr>\n",
       "    <tr>\n",
       "      <th>14</th>\n",
       "      <td>2.17</td>\n",
       "      <td>5.533673</td>\n",
       "    </tr>\n",
       "    <tr>\n",
       "      <th>15</th>\n",
       "      <td>2.94</td>\n",
       "      <td>6.137931</td>\n",
       "    </tr>\n",
       "    <tr>\n",
       "      <th>16</th>\n",
       "      <td>77.22</td>\n",
       "      <td>92.546841</td>\n",
       "    </tr>\n",
       "    <tr>\n",
       "      <th>17</th>\n",
       "      <td>1.02</td>\n",
       "      <td>4.325157</td>\n",
       "    </tr>\n",
       "    <tr>\n",
       "      <th>18</th>\n",
       "      <td>63.24</td>\n",
       "      <td>39.976385</td>\n",
       "    </tr>\n",
       "    <tr>\n",
       "      <th>19</th>\n",
       "      <td>10.38</td>\n",
       "      <td>7.950705</td>\n",
       "    </tr>\n",
       "    <tr>\n",
       "      <th>20</th>\n",
       "      <td>36.23</td>\n",
       "      <td>36.955095</td>\n",
       "    </tr>\n",
       "    <tr>\n",
       "      <th>21</th>\n",
       "      <td>143.98</td>\n",
       "      <td>162.036524</td>\n",
       "    </tr>\n",
       "    <tr>\n",
       "      <th>22</th>\n",
       "      <td>2.53</td>\n",
       "      <td>5.533673</td>\n",
       "    </tr>\n",
       "    <tr>\n",
       "      <th>23</th>\n",
       "      <td>31.78</td>\n",
       "      <td>32.121030</td>\n",
       "    </tr>\n",
       "    <tr>\n",
       "      <th>24</th>\n",
       "      <td>24.56</td>\n",
       "      <td>18.223093</td>\n",
       "    </tr>\n",
       "    <tr>\n",
       "      <th>25</th>\n",
       "      <td>2.35</td>\n",
       "      <td>6.137931</td>\n",
       "    </tr>\n",
       "    <tr>\n",
       "      <th>26</th>\n",
       "      <td>35.98</td>\n",
       "      <td>49.644515</td>\n",
       "    </tr>\n",
       "    <tr>\n",
       "      <th>27</th>\n",
       "      <td>4.91</td>\n",
       "      <td>6.137931</td>\n",
       "    </tr>\n",
       "    <tr>\n",
       "      <th>28</th>\n",
       "      <td>23.25</td>\n",
       "      <td>23.057158</td>\n",
       "    </tr>\n",
       "    <tr>\n",
       "      <th>29</th>\n",
       "      <td>3.23</td>\n",
       "      <td>5.533673</td>\n",
       "    </tr>\n",
       "  </tbody>\n",
       "</table>\n",
       "</div>"
      ],
      "text/plain": [
       "    Actual   Predicted\n",
       "0     0.73    3.720899\n",
       "1    10.30    8.554963\n",
       "2     0.85    3.720899\n",
       "3     4.32    6.137931\n",
       "4   192.88  184.394074\n",
       "5     3.08    7.950705\n",
       "6    32.96   27.891223\n",
       "7     1.30    4.325157\n",
       "8     2.53    4.325157\n",
       "9     0.32    3.720899\n",
       "10   21.81   22.452900\n",
       "11   16.00   21.848642\n",
       "12  149.50  140.283232\n",
       "13    2.57    6.137931\n",
       "14    2.17    5.533673\n",
       "15    2.94    6.137931\n",
       "16   77.22   92.546841\n",
       "17    1.02    4.325157\n",
       "18   63.24   39.976385\n",
       "19   10.38    7.950705\n",
       "20   36.23   36.955095\n",
       "21  143.98  162.036524\n",
       "22    2.53    5.533673\n",
       "23   31.78   32.121030\n",
       "24   24.56   18.223093\n",
       "25    2.35    6.137931\n",
       "26   35.98   49.644515\n",
       "27    4.91    6.137931\n",
       "28   23.25   23.057158\n",
       "29    3.23    5.533673"
      ]
     },
     "execution_count": 46,
     "metadata": {},
     "output_type": "execute_result"
    }
   ],
   "source": [
    "df_co2_reg_comparison_2 = pd.DataFrame({'Actual': y_test_2.flatten(), 'Predicted': y_predicted_2.flatten()})\n",
    "df_co2_reg_comparison_2.head(30)"
   ]
  },
  {
   "cell_type": "markdown",
   "id": "bbf7af88",
   "metadata": {},
   "source": [
    "Our predictions are much more accurate now! <br>\n",
    "There is still some margin of error (usually the prediction is off by around 2-7) but is a huge improvement compared to our first regression. <br>\n",
    "Some predictions are actually very close to the actual value (see for example index 20, 23 or 28)."
   ]
  },
  {
   "cell_type": "markdown",
   "id": "7b2da2fe",
   "metadata": {},
   "source": [
    "# 7. Conclusions\n",
    "** **"
   ]
  },
  {
   "cell_type": "markdown",
   "id": "2810a6d0",
   "metadata": {},
   "source": [
    "<b> In conclusion: </b> <br>\n",
    "I think this model is a good fit and that can back up my research hypothesis: <br>\n",
    "<i>The higher the Energy consumption, the higher the CO2 emissions.</i> <br>"
   ]
  },
  {
   "cell_type": "markdown",
   "id": "987a934b",
   "metadata": {},
   "source": [
    "According to data, this is partially true, at least in certain conditions. <br>\n",
    "This model can be applied to the majority of data included in the dataframe, but isn't a good fit when it comes to extreme value. <br>\n",
    "While Energy consumption may not be the only variable influencing CO2 emissions, it surely plays some part in it."
   ]
  },
  {
   "cell_type": "markdown",
   "id": "ab29bf70",
   "metadata": {},
   "source": [
    "I don't see potential bias in here, except for the removal of the extreme values. <br>\n",
    "We can't just pretend they don't exists. I removed them for the sake of the analysis but I should investigate further why these values are so different from the values registered in the majority of all other countries."
   ]
  }
 ],
 "metadata": {
  "kernelspec": {
   "display_name": "Python 3 (ipykernel)",
   "language": "python",
   "name": "python3"
  },
  "language_info": {
   "codemirror_mode": {
    "name": "ipython",
    "version": 3
   },
   "file_extension": ".py",
   "mimetype": "text/x-python",
   "name": "python",
   "nbconvert_exporter": "python",
   "pygments_lexer": "ipython3",
   "version": "3.9.16"
  }
 },
 "nbformat": 4,
 "nbformat_minor": 5
}
