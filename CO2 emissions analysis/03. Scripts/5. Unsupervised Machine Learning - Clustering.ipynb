{
 "cells": [
  {
   "cell_type": "markdown",
   "id": "7003c534",
   "metadata": {},
   "source": [
    "# 5. Unsupervised machine learning - Clustering\n",
    "** **\n",
    "## Table of contents:\n",
    "\n",
    "1. Importing libraries <br>\n",
    "2. Importing dataframe <br>\n",
    "3. Data preparation\n",
    "    - 3.1 Removing categorical variables\n",
    "    - 3.2 Handling missing values\n",
    "    - 3.3 Handling \"0\" values\n",
    "    - 3.4 Standardize data\n",
    "4. The elbow technique\n",
    "5. K-means clustering\n",
    "6. Visualizations analysis\n",
    "7. Descriptive statistics"
   ]
  },
  {
   "cell_type": "markdown",
   "id": "b514fad5",
   "metadata": {},
   "source": [
    "# 1. Importing libraries\n",
    "** **"
   ]
  },
  {
   "cell_type": "code",
   "execution_count": 1,
   "id": "e09b16ee",
   "metadata": {},
   "outputs": [],
   "source": [
    "import pandas as pd\n",
    "import numpy as np\n",
    "import seaborn as sns\n",
    "import matplotlib\n",
    "import matplotlib.pyplot as plt\n",
    "import os\n",
    "import sklearn\n",
    "from sklearn.cluster import KMeans\n",
    "from sklearn.preprocessing import StandardScaler\n",
    "import pylab as pl"
   ]
  },
  {
   "cell_type": "code",
   "execution_count": 2,
   "id": "089b7798",
   "metadata": {},
   "outputs": [],
   "source": [
    "# This option ensures the graphs you create are displayed in your notebook without the need to \"call\" them specifically.\n",
    "\n",
    "%matplotlib inline"
   ]
  },
  {
   "cell_type": "markdown",
   "id": "aad71826",
   "metadata": {},
   "source": [
    "# 2. Importing dataframe\n",
    "** **"
   ]
  },
  {
   "cell_type": "code",
   "execution_count": 3,
   "id": "d74af985",
   "metadata": {},
   "outputs": [],
   "source": [
    "# Creating a path variabile for the folder\n",
    "path = r'C:\\Users\\Simone\\Desktop\\Career Foundry\\Esercizi modulo 7\\CO2 emissions analysis'"
   ]
  },
  {
   "cell_type": "code",
   "execution_count": 4,
   "id": "a30037db",
   "metadata": {},
   "outputs": [],
   "source": [
    "# Importing the dataframe\n",
    "df_co2 = pd.read_pickle(os.path.join(path, '02. Data', 'Prepared Data', 'emissions_clean_2015_no_countries_no_aggregations_flags.pkl'))"
   ]
  },
  {
   "cell_type": "code",
   "execution_count": 5,
   "id": "642a107a",
   "metadata": {},
   "outputs": [
    {
     "data": {
      "text/html": [
       "<div>\n",
       "<style scoped>\n",
       "    .dataframe tbody tr th:only-of-type {\n",
       "        vertical-align: middle;\n",
       "    }\n",
       "\n",
       "    .dataframe tbody tr th {\n",
       "        vertical-align: top;\n",
       "    }\n",
       "\n",
       "    .dataframe thead th {\n",
       "        text-align: right;\n",
       "    }\n",
       "</style>\n",
       "<table border=\"1\" class=\"dataframe\">\n",
       "  <thead>\n",
       "    <tr style=\"text-align: right;\">\n",
       "      <th></th>\n",
       "      <th>Country</th>\n",
       "      <th>Energy_type</th>\n",
       "      <th>Year</th>\n",
       "      <th>Energy_consumption</th>\n",
       "      <th>Energy_production</th>\n",
       "      <th>GDP</th>\n",
       "      <th>Population</th>\n",
       "      <th>Energy_intensity_per_capita</th>\n",
       "      <th>Energy_intensity_by_GDP</th>\n",
       "      <th>CO2_emission</th>\n",
       "      <th>GDP_category</th>\n",
       "      <th>CO2_category</th>\n",
       "      <th>Average_CO2_emission</th>\n",
       "    </tr>\n",
       "  </thead>\n",
       "  <tbody>\n",
       "    <tr>\n",
       "      <th>0</th>\n",
       "      <td>Afghanistan</td>\n",
       "      <td>coal</td>\n",
       "      <td>2015</td>\n",
       "      <td>0.03</td>\n",
       "      <td>0.03</td>\n",
       "      <td>72.06</td>\n",
       "      <td>34414.0</td>\n",
       "      <td>3.67</td>\n",
       "      <td>1.75</td>\n",
       "      <td>2.95</td>\n",
       "      <td>Medium-high</td>\n",
       "      <td>Low</td>\n",
       "      <td>1.5824</td>\n",
       "    </tr>\n",
       "    <tr>\n",
       "      <th>1</th>\n",
       "      <td>Afghanistan</td>\n",
       "      <td>natural_gas</td>\n",
       "      <td>2015</td>\n",
       "      <td>0.01</td>\n",
       "      <td>0.01</td>\n",
       "      <td>72.06</td>\n",
       "      <td>34414.0</td>\n",
       "      <td>3.67</td>\n",
       "      <td>1.75</td>\n",
       "      <td>0.28</td>\n",
       "      <td>Medium-high</td>\n",
       "      <td>Low</td>\n",
       "      <td>1.5824</td>\n",
       "    </tr>\n",
       "    <tr>\n",
       "      <th>2</th>\n",
       "      <td>Afghanistan</td>\n",
       "      <td>petroleum_n_other_liquids</td>\n",
       "      <td>2015</td>\n",
       "      <td>0.07</td>\n",
       "      <td>0.00</td>\n",
       "      <td>72.06</td>\n",
       "      <td>34414.0</td>\n",
       "      <td>3.67</td>\n",
       "      <td>1.75</td>\n",
       "      <td>3.94</td>\n",
       "      <td>Medium-high</td>\n",
       "      <td>Low</td>\n",
       "      <td>1.5824</td>\n",
       "    </tr>\n",
       "    <tr>\n",
       "      <th>3</th>\n",
       "      <td>Afghanistan</td>\n",
       "      <td>nuclear</td>\n",
       "      <td>2015</td>\n",
       "      <td>NaN</td>\n",
       "      <td>NaN</td>\n",
       "      <td>72.06</td>\n",
       "      <td>34414.0</td>\n",
       "      <td>3.67</td>\n",
       "      <td>1.75</td>\n",
       "      <td>0.00</td>\n",
       "      <td>Medium-high</td>\n",
       "      <td>Low</td>\n",
       "      <td>1.5824</td>\n",
       "    </tr>\n",
       "    <tr>\n",
       "      <th>4</th>\n",
       "      <td>Afghanistan</td>\n",
       "      <td>renewables_n_other</td>\n",
       "      <td>2015</td>\n",
       "      <td>0.02</td>\n",
       "      <td>0.01</td>\n",
       "      <td>72.06</td>\n",
       "      <td>34414.0</td>\n",
       "      <td>3.67</td>\n",
       "      <td>1.75</td>\n",
       "      <td>0.00</td>\n",
       "      <td>Medium-high</td>\n",
       "      <td>Low</td>\n",
       "      <td>1.5824</td>\n",
       "    </tr>\n",
       "  </tbody>\n",
       "</table>\n",
       "</div>"
      ],
      "text/plain": [
       "       Country                Energy_type  Year  Energy_consumption  \\\n",
       "0  Afghanistan                       coal  2015                0.03   \n",
       "1  Afghanistan                natural_gas  2015                0.01   \n",
       "2  Afghanistan  petroleum_n_other_liquids  2015                0.07   \n",
       "3  Afghanistan                    nuclear  2015                 NaN   \n",
       "4  Afghanistan         renewables_n_other  2015                0.02   \n",
       "\n",
       "   Energy_production    GDP  Population  Energy_intensity_per_capita  \\\n",
       "0               0.03  72.06     34414.0                         3.67   \n",
       "1               0.01  72.06     34414.0                         3.67   \n",
       "2               0.00  72.06     34414.0                         3.67   \n",
       "3                NaN  72.06     34414.0                         3.67   \n",
       "4               0.01  72.06     34414.0                         3.67   \n",
       "\n",
       "   Energy_intensity_by_GDP  CO2_emission GDP_category CO2_category  \\\n",
       "0                     1.75          2.95  Medium-high          Low   \n",
       "1                     1.75          0.28  Medium-high          Low   \n",
       "2                     1.75          3.94  Medium-high          Low   \n",
       "3                     1.75          0.00  Medium-high          Low   \n",
       "4                     1.75          0.00  Medium-high          Low   \n",
       "\n",
       "   Average_CO2_emission  \n",
       "0                1.5824  \n",
       "1                1.5824  \n",
       "2                1.5824  \n",
       "3                1.5824  \n",
       "4                1.5824  "
      ]
     },
     "execution_count": 5,
     "metadata": {},
     "output_type": "execute_result"
    }
   ],
   "source": [
    "# Printing the first 5 rows\n",
    "df_co2.head()"
   ]
  },
  {
   "cell_type": "code",
   "execution_count": 6,
   "id": "9ff07adc",
   "metadata": {},
   "outputs": [
    {
     "data": {
      "text/plain": [
       "(5250, 13)"
      ]
     },
     "execution_count": 6,
     "metadata": {},
     "output_type": "execute_result"
    }
   ],
   "source": [
    "# Checking the shape\n",
    "df_co2.shape"
   ]
  },
  {
   "cell_type": "markdown",
   "id": "c52d6cf8",
   "metadata": {},
   "source": [
    "# 3. Data preparation\n",
    "** **"
   ]
  },
  {
   "cell_type": "markdown",
   "id": "b46991c7",
   "metadata": {},
   "source": [
    "Before running our clustering algorithm, is crucial that we prepare our data."
   ]
  },
  {
   "cell_type": "markdown",
   "id": "559eef78",
   "metadata": {},
   "source": [
    "## 3.1 Removing categorical variables"
   ]
  },
  {
   "cell_type": "markdown",
   "id": "7bd9383e",
   "metadata": {},
   "source": [
    "K-means clustering can't handle categorical variables. Let's create a new dataframe withouth these variables."
   ]
  },
  {
   "cell_type": "code",
   "execution_count": 7,
   "id": "cb529852",
   "metadata": {},
   "outputs": [],
   "source": [
    "df_co2_clustering = df_co2.drop(columns = ['Country', 'Energy_type', 'Year', 'GDP_category', 'CO2_category'])"
   ]
  },
  {
   "cell_type": "code",
   "execution_count": 8,
   "id": "98d3d764",
   "metadata": {},
   "outputs": [
    {
     "data": {
      "text/html": [
       "<div>\n",
       "<style scoped>\n",
       "    .dataframe tbody tr th:only-of-type {\n",
       "        vertical-align: middle;\n",
       "    }\n",
       "\n",
       "    .dataframe tbody tr th {\n",
       "        vertical-align: top;\n",
       "    }\n",
       "\n",
       "    .dataframe thead th {\n",
       "        text-align: right;\n",
       "    }\n",
       "</style>\n",
       "<table border=\"1\" class=\"dataframe\">\n",
       "  <thead>\n",
       "    <tr style=\"text-align: right;\">\n",
       "      <th></th>\n",
       "      <th>Energy_consumption</th>\n",
       "      <th>Energy_production</th>\n",
       "      <th>GDP</th>\n",
       "      <th>Population</th>\n",
       "      <th>Energy_intensity_per_capita</th>\n",
       "      <th>Energy_intensity_by_GDP</th>\n",
       "      <th>CO2_emission</th>\n",
       "      <th>Average_CO2_emission</th>\n",
       "    </tr>\n",
       "  </thead>\n",
       "  <tbody>\n",
       "    <tr>\n",
       "      <th>0</th>\n",
       "      <td>0.03</td>\n",
       "      <td>0.03</td>\n",
       "      <td>72.06</td>\n",
       "      <td>34414.0</td>\n",
       "      <td>3.67</td>\n",
       "      <td>1.75</td>\n",
       "      <td>2.95</td>\n",
       "      <td>1.5824</td>\n",
       "    </tr>\n",
       "    <tr>\n",
       "      <th>1</th>\n",
       "      <td>0.01</td>\n",
       "      <td>0.01</td>\n",
       "      <td>72.06</td>\n",
       "      <td>34414.0</td>\n",
       "      <td>3.67</td>\n",
       "      <td>1.75</td>\n",
       "      <td>0.28</td>\n",
       "      <td>1.5824</td>\n",
       "    </tr>\n",
       "    <tr>\n",
       "      <th>2</th>\n",
       "      <td>0.07</td>\n",
       "      <td>0.00</td>\n",
       "      <td>72.06</td>\n",
       "      <td>34414.0</td>\n",
       "      <td>3.67</td>\n",
       "      <td>1.75</td>\n",
       "      <td>3.94</td>\n",
       "      <td>1.5824</td>\n",
       "    </tr>\n",
       "    <tr>\n",
       "      <th>3</th>\n",
       "      <td>NaN</td>\n",
       "      <td>NaN</td>\n",
       "      <td>72.06</td>\n",
       "      <td>34414.0</td>\n",
       "      <td>3.67</td>\n",
       "      <td>1.75</td>\n",
       "      <td>0.00</td>\n",
       "      <td>1.5824</td>\n",
       "    </tr>\n",
       "    <tr>\n",
       "      <th>4</th>\n",
       "      <td>0.02</td>\n",
       "      <td>0.01</td>\n",
       "      <td>72.06</td>\n",
       "      <td>34414.0</td>\n",
       "      <td>3.67</td>\n",
       "      <td>1.75</td>\n",
       "      <td>0.00</td>\n",
       "      <td>1.5824</td>\n",
       "    </tr>\n",
       "    <tr>\n",
       "      <th>...</th>\n",
       "      <td>...</td>\n",
       "      <td>...</td>\n",
       "      <td>...</td>\n",
       "      <td>...</td>\n",
       "      <td>...</td>\n",
       "      <td>...</td>\n",
       "      <td>...</td>\n",
       "      <td>...</td>\n",
       "    </tr>\n",
       "    <tr>\n",
       "      <th>5245</th>\n",
       "      <td>0.05</td>\n",
       "      <td>0.08</td>\n",
       "      <td>37.62</td>\n",
       "      <td>14654.0</td>\n",
       "      <td>11.51</td>\n",
       "      <td>4.48</td>\n",
       "      <td>4.59</td>\n",
       "      <td>2.0696</td>\n",
       "    </tr>\n",
       "    <tr>\n",
       "      <th>5246</th>\n",
       "      <td>0.00</td>\n",
       "      <td>0.00</td>\n",
       "      <td>37.62</td>\n",
       "      <td>14654.0</td>\n",
       "      <td>11.51</td>\n",
       "      <td>4.48</td>\n",
       "      <td>0.00</td>\n",
       "      <td>2.0696</td>\n",
       "    </tr>\n",
       "    <tr>\n",
       "      <th>5247</th>\n",
       "      <td>0.06</td>\n",
       "      <td>0.00</td>\n",
       "      <td>37.62</td>\n",
       "      <td>14654.0</td>\n",
       "      <td>11.51</td>\n",
       "      <td>4.48</td>\n",
       "      <td>4.38</td>\n",
       "      <td>2.0696</td>\n",
       "    </tr>\n",
       "    <tr>\n",
       "      <th>5248</th>\n",
       "      <td>NaN</td>\n",
       "      <td>NaN</td>\n",
       "      <td>37.62</td>\n",
       "      <td>14654.0</td>\n",
       "      <td>11.51</td>\n",
       "      <td>4.48</td>\n",
       "      <td>0.00</td>\n",
       "      <td>2.0696</td>\n",
       "    </tr>\n",
       "    <tr>\n",
       "      <th>5249</th>\n",
       "      <td>0.07</td>\n",
       "      <td>0.07</td>\n",
       "      <td>37.62</td>\n",
       "      <td>14654.0</td>\n",
       "      <td>11.51</td>\n",
       "      <td>4.48</td>\n",
       "      <td>0.00</td>\n",
       "      <td>2.0696</td>\n",
       "    </tr>\n",
       "  </tbody>\n",
       "</table>\n",
       "<p>5250 rows × 8 columns</p>\n",
       "</div>"
      ],
      "text/plain": [
       "      Energy_consumption  Energy_production    GDP  Population  \\\n",
       "0                   0.03               0.03  72.06     34414.0   \n",
       "1                   0.01               0.01  72.06     34414.0   \n",
       "2                   0.07               0.00  72.06     34414.0   \n",
       "3                    NaN                NaN  72.06     34414.0   \n",
       "4                   0.02               0.01  72.06     34414.0   \n",
       "...                  ...                ...    ...         ...   \n",
       "5245                0.05               0.08  37.62     14654.0   \n",
       "5246                0.00               0.00  37.62     14654.0   \n",
       "5247                0.06               0.00  37.62     14654.0   \n",
       "5248                 NaN                NaN  37.62     14654.0   \n",
       "5249                0.07               0.07  37.62     14654.0   \n",
       "\n",
       "      Energy_intensity_per_capita  Energy_intensity_by_GDP  CO2_emission  \\\n",
       "0                            3.67                     1.75          2.95   \n",
       "1                            3.67                     1.75          0.28   \n",
       "2                            3.67                     1.75          3.94   \n",
       "3                            3.67                     1.75          0.00   \n",
       "4                            3.67                     1.75          0.00   \n",
       "...                           ...                      ...           ...   \n",
       "5245                        11.51                     4.48          4.59   \n",
       "5246                        11.51                     4.48          0.00   \n",
       "5247                        11.51                     4.48          4.38   \n",
       "5248                        11.51                     4.48          0.00   \n",
       "5249                        11.51                     4.48          0.00   \n",
       "\n",
       "      Average_CO2_emission  \n",
       "0                   1.5824  \n",
       "1                   1.5824  \n",
       "2                   1.5824  \n",
       "3                   1.5824  \n",
       "4                   1.5824  \n",
       "...                    ...  \n",
       "5245                2.0696  \n",
       "5246                2.0696  \n",
       "5247                2.0696  \n",
       "5248                2.0696  \n",
       "5249                2.0696  \n",
       "\n",
       "[5250 rows x 8 columns]"
      ]
     },
     "execution_count": 8,
     "metadata": {},
     "output_type": "execute_result"
    }
   ],
   "source": [
    "df_co2_clustering"
   ]
  },
  {
   "cell_type": "markdown",
   "id": "1d021ef5",
   "metadata": {},
   "source": [
    "Categorical variables successfully removed."
   ]
  },
  {
   "cell_type": "markdown",
   "id": "1a334776",
   "metadata": {},
   "source": [
    "## 3.2 Handling missing values"
   ]
  },
  {
   "cell_type": "markdown",
   "id": "b424350c",
   "metadata": {},
   "source": [
    "As observed in the previous scripts, there are several missing values in our dataframe."
   ]
  },
  {
   "cell_type": "code",
   "execution_count": 9,
   "id": "8baa2a8f",
   "metadata": {},
   "outputs": [
    {
     "data": {
      "text/plain": [
       "Energy_consumption             896\n",
       "Energy_production              895\n",
       "GDP                            190\n",
       "Population                     175\n",
       "Energy_intensity_per_capita    125\n",
       "Energy_intensity_by_GDP        125\n",
       "CO2_emission                     0\n",
       "Average_CO2_emission             0\n",
       "dtype: int64"
      ]
     },
     "execution_count": 9,
     "metadata": {},
     "output_type": "execute_result"
    }
   ],
   "source": [
    "# Check for missing values\n",
    "\n",
    "df_co2_clustering.isnull().sum()"
   ]
  },
  {
   "cell_type": "markdown",
   "id": "8f7d8db6",
   "metadata": {},
   "source": [
    "They're quite a lot, at least for the first two variables. <br>\n",
    "We could use median to impute values, however the percentage of missing values is very high for those two columns. <br>\n",
    "Additionally, the whole point of clustering is to let our algorithm cluster our datapoints, and if we impute a median to all these variables, it would be like to \"artificially\" create similarities between values. <br>\n",
    "So in the end, I will just drop the observations with missing values."
   ]
  },
  {
   "cell_type": "code",
   "execution_count": 10,
   "id": "41018773",
   "metadata": {},
   "outputs": [],
   "source": [
    "# Removing observations with missing values\n",
    "df_co2_clustering = df_co2_clustering[df_co2_clustering['Energy_consumption'].isnull() == False]"
   ]
  },
  {
   "cell_type": "code",
   "execution_count": 11,
   "id": "c9cc80e2",
   "metadata": {},
   "outputs": [],
   "source": [
    "df_co2_clustering = df_co2_clustering[df_co2_clustering['GDP'].isnull() == False]"
   ]
  },
  {
   "cell_type": "code",
   "execution_count": 12,
   "id": "8f10f7fb",
   "metadata": {},
   "outputs": [],
   "source": [
    "df_co2_clustering = df_co2_clustering[df_co2_clustering['Population'].isnull() == False]"
   ]
  },
  {
   "cell_type": "code",
   "execution_count": 13,
   "id": "d6268ff9",
   "metadata": {},
   "outputs": [],
   "source": [
    "df_co2_clustering = df_co2_clustering[df_co2_clustering['Energy_intensity_per_capita'].isnull() == False]"
   ]
  },
  {
   "cell_type": "code",
   "execution_count": 14,
   "id": "c275322c",
   "metadata": {},
   "outputs": [
    {
     "data": {
      "text/plain": [
       "Energy_consumption             0\n",
       "Energy_production              0\n",
       "GDP                            0\n",
       "Population                     0\n",
       "Energy_intensity_per_capita    0\n",
       "Energy_intensity_by_GDP        0\n",
       "CO2_emission                   0\n",
       "Average_CO2_emission           0\n",
       "dtype: int64"
      ]
     },
     "execution_count": 14,
     "metadata": {},
     "output_type": "execute_result"
    }
   ],
   "source": [
    "# Checking again for missing values\n",
    "\n",
    "df_co2_clustering.isnull().sum()"
   ]
  },
  {
   "cell_type": "markdown",
   "id": "b467508f",
   "metadata": {},
   "source": [
    "Perfect! Now we don't have any missing value. Code was not applied to some columns (such as Energy_production) beacause I knew that dropping NaN observation from a variable would affect also the other variable."
   ]
  },
  {
   "cell_type": "code",
   "execution_count": 15,
   "id": "6a2d0cef",
   "metadata": {},
   "outputs": [
    {
     "data": {
      "text/plain": [
       "(4103, 8)"
      ]
     },
     "execution_count": 15,
     "metadata": {},
     "output_type": "execute_result"
    }
   ],
   "source": [
    "# Checking the shape\n",
    "df_co2_clustering.shape"
   ]
  },
  {
   "cell_type": "markdown",
   "id": "683912c6",
   "metadata": {},
   "source": [
    "We removed around 1000 observations, but at least we don't have any missing value now."
   ]
  },
  {
   "cell_type": "markdown",
   "id": "66effc52",
   "metadata": {},
   "source": [
    "## 3.3 Handling \"0\" values"
   ]
  },
  {
   "cell_type": "markdown",
   "id": "1a57d3ac",
   "metadata": {},
   "source": [
    "Like in script number 4, let's also get rid of \"0\" values, because we are not sure what they actually mean."
   ]
  },
  {
   "cell_type": "code",
   "execution_count": 16,
   "id": "2eec0a45",
   "metadata": {},
   "outputs": [],
   "source": [
    "# Filtering out 0 values\n",
    "df_co2_clustering = df_co2_clustering[df_co2_clustering['Energy_consumption'] >= 0.00001]"
   ]
  },
  {
   "cell_type": "code",
   "execution_count": 17,
   "id": "eac1ce64",
   "metadata": {},
   "outputs": [],
   "source": [
    "df_co2_clustering = df_co2_clustering[df_co2_clustering['Energy_production'] >= 0.00001]"
   ]
  },
  {
   "cell_type": "code",
   "execution_count": 18,
   "id": "b8d9c86f",
   "metadata": {},
   "outputs": [],
   "source": [
    "df_co2_clustering = df_co2_clustering[df_co2_clustering['GDP'] >= 0.00001]"
   ]
  },
  {
   "cell_type": "code",
   "execution_count": 19,
   "id": "be607966",
   "metadata": {},
   "outputs": [],
   "source": [
    "df_co2_clustering = df_co2_clustering[df_co2_clustering['Population'] >= 0.00001]"
   ]
  },
  {
   "cell_type": "code",
   "execution_count": 20,
   "id": "42aba244",
   "metadata": {},
   "outputs": [],
   "source": [
    "df_co2_clustering = df_co2_clustering[df_co2_clustering['Energy_intensity_per_capita'] >= 0.00001]"
   ]
  },
  {
   "cell_type": "code",
   "execution_count": 21,
   "id": "eb4a3021",
   "metadata": {},
   "outputs": [],
   "source": [
    "df_co2_clustering = df_co2_clustering[df_co2_clustering['Energy_intensity_by_GDP'] >= 0.00001]"
   ]
  },
  {
   "cell_type": "code",
   "execution_count": 22,
   "id": "f4c8341e",
   "metadata": {},
   "outputs": [],
   "source": [
    "df_co2_clustering = df_co2_clustering[df_co2_clustering['CO2_emission'] >= 0.00001]"
   ]
  },
  {
   "cell_type": "code",
   "execution_count": 23,
   "id": "0fe3029e",
   "metadata": {},
   "outputs": [],
   "source": [
    "df_co2_clustering = df_co2_clustering[df_co2_clustering['Average_CO2_emission'] >= 0.00001]"
   ]
  },
  {
   "cell_type": "code",
   "execution_count": 24,
   "id": "04e5328c",
   "metadata": {},
   "outputs": [
    {
     "data": {
      "text/html": [
       "<div>\n",
       "<style scoped>\n",
       "    .dataframe tbody tr th:only-of-type {\n",
       "        vertical-align: middle;\n",
       "    }\n",
       "\n",
       "    .dataframe tbody tr th {\n",
       "        vertical-align: top;\n",
       "    }\n",
       "\n",
       "    .dataframe thead th {\n",
       "        text-align: right;\n",
       "    }\n",
       "</style>\n",
       "<table border=\"1\" class=\"dataframe\">\n",
       "  <thead>\n",
       "    <tr style=\"text-align: right;\">\n",
       "      <th></th>\n",
       "      <th>Energy_consumption</th>\n",
       "      <th>Energy_production</th>\n",
       "      <th>GDP</th>\n",
       "      <th>Population</th>\n",
       "      <th>Energy_intensity_per_capita</th>\n",
       "      <th>Energy_intensity_by_GDP</th>\n",
       "      <th>CO2_emission</th>\n",
       "      <th>Average_CO2_emission</th>\n",
       "    </tr>\n",
       "  </thead>\n",
       "  <tbody>\n",
       "    <tr>\n",
       "      <th>count</th>\n",
       "      <td>1073.000000</td>\n",
       "      <td>1073.000000</td>\n",
       "      <td>1073.000000</td>\n",
       "      <td>1.073000e+03</td>\n",
       "      <td>1073.000000</td>\n",
       "      <td>1073.000000</td>\n",
       "      <td>1073.000000</td>\n",
       "      <td>1073.000000</td>\n",
       "    </tr>\n",
       "    <tr>\n",
       "      <th>mean</th>\n",
       "      <td>2.150820</td>\n",
       "      <td>2.290541</td>\n",
       "      <td>1439.751137</td>\n",
       "      <td>8.681667e+04</td>\n",
       "      <td>115.205853</td>\n",
       "      <td>4.731184</td>\n",
       "      <td>152.158667</td>\n",
       "      <td>88.296307</td>\n",
       "    </tr>\n",
       "    <tr>\n",
       "      <th>std</th>\n",
       "      <td>7.388051</td>\n",
       "      <td>7.127383</td>\n",
       "      <td>3408.604016</td>\n",
       "      <td>2.287087e+05</td>\n",
       "      <td>126.868976</td>\n",
       "      <td>2.711932</td>\n",
       "      <td>637.962379</td>\n",
       "      <td>276.378530</td>\n",
       "    </tr>\n",
       "    <tr>\n",
       "      <th>min</th>\n",
       "      <td>0.010000</td>\n",
       "      <td>0.010000</td>\n",
       "      <td>3.420000</td>\n",
       "      <td>4.150000e+02</td>\n",
       "      <td>0.970000</td>\n",
       "      <td>0.560000</td>\n",
       "      <td>0.200000</td>\n",
       "      <td>0.106000</td>\n",
       "    </tr>\n",
       "    <tr>\n",
       "      <th>25%</th>\n",
       "      <td>0.130000</td>\n",
       "      <td>0.050000</td>\n",
       "      <td>117.450000</td>\n",
       "      <td>8.880000e+03</td>\n",
       "      <td>28.810000</td>\n",
       "      <td>2.890000</td>\n",
       "      <td>7.510000</td>\n",
       "      <td>4.728800</td>\n",
       "    </tr>\n",
       "    <tr>\n",
       "      <th>50%</th>\n",
       "      <td>0.410000</td>\n",
       "      <td>0.240000</td>\n",
       "      <td>404.620000</td>\n",
       "      <td>2.884200e+04</td>\n",
       "      <td>78.210000</td>\n",
       "      <td>3.970000</td>\n",
       "      <td>27.020000</td>\n",
       "      <td>16.620000</td>\n",
       "    </tr>\n",
       "    <tr>\n",
       "      <th>75%</th>\n",
       "      <td>1.650000</td>\n",
       "      <td>1.570000</td>\n",
       "      <td>1125.940000</td>\n",
       "      <td>6.682800e+04</td>\n",
       "      <td>145.360000</td>\n",
       "      <td>6.050000</td>\n",
       "      <td>96.820000</td>\n",
       "      <td>62.345200</td>\n",
       "    </tr>\n",
       "    <tr>\n",
       "      <th>max</th>\n",
       "      <td>91.430000</td>\n",
       "      <td>87.630000</td>\n",
       "      <td>23128.340000</td>\n",
       "      <td>1.434512e+06</td>\n",
       "      <td>776.440000</td>\n",
       "      <td>19.600000</td>\n",
       "      <td>8939.780000</td>\n",
       "      <td>2094.652400</td>\n",
       "    </tr>\n",
       "  </tbody>\n",
       "</table>\n",
       "</div>"
      ],
      "text/plain": [
       "       Energy_consumption  Energy_production           GDP    Population  \\\n",
       "count         1073.000000        1073.000000   1073.000000  1.073000e+03   \n",
       "mean             2.150820           2.290541   1439.751137  8.681667e+04   \n",
       "std              7.388051           7.127383   3408.604016  2.287087e+05   \n",
       "min              0.010000           0.010000      3.420000  4.150000e+02   \n",
       "25%              0.130000           0.050000    117.450000  8.880000e+03   \n",
       "50%              0.410000           0.240000    404.620000  2.884200e+04   \n",
       "75%              1.650000           1.570000   1125.940000  6.682800e+04   \n",
       "max             91.430000          87.630000  23128.340000  1.434512e+06   \n",
       "\n",
       "       Energy_intensity_per_capita  Energy_intensity_by_GDP  CO2_emission  \\\n",
       "count                  1073.000000              1073.000000   1073.000000   \n",
       "mean                    115.205853                 4.731184    152.158667   \n",
       "std                     126.868976                 2.711932    637.962379   \n",
       "min                       0.970000                 0.560000      0.200000   \n",
       "25%                      28.810000                 2.890000      7.510000   \n",
       "50%                      78.210000                 3.970000     27.020000   \n",
       "75%                     145.360000                 6.050000     96.820000   \n",
       "max                     776.440000                19.600000   8939.780000   \n",
       "\n",
       "       Average_CO2_emission  \n",
       "count           1073.000000  \n",
       "mean              88.296307  \n",
       "std              276.378530  \n",
       "min                0.106000  \n",
       "25%                4.728800  \n",
       "50%               16.620000  \n",
       "75%               62.345200  \n",
       "max             2094.652400  "
      ]
     },
     "execution_count": 24,
     "metadata": {},
     "output_type": "execute_result"
    }
   ],
   "source": [
    "# Let's check the min value of the columns using the describe function\n",
    "df_co2_clustering.describe()"
   ]
  },
  {
   "cell_type": "markdown",
   "id": "3083e2ff",
   "metadata": {},
   "source": [
    "Great! No more 0 values. Let's check the shape of our dataframe."
   ]
  },
  {
   "cell_type": "code",
   "execution_count": 25,
   "id": "3421d63a",
   "metadata": {},
   "outputs": [
    {
     "data": {
      "text/plain": [
       "(1073, 8)"
      ]
     },
     "execution_count": 25,
     "metadata": {},
     "output_type": "execute_result"
    }
   ],
   "source": [
    "df_co2_clustering.shape"
   ]
  },
  {
   "cell_type": "markdown",
   "id": "9ea95efc",
   "metadata": {},
   "source": [
    "We got rid of 0 values but now our dataframe is significatively smaller. <br>\n",
    "Let's carry on with our analysis, for the time being."
   ]
  },
  {
   "cell_type": "code",
   "execution_count": 26,
   "id": "271bb91c",
   "metadata": {},
   "outputs": [
    {
     "data": {
      "text/plain": [
       "Energy_consumption             0\n",
       "Energy_production              0\n",
       "GDP                            0\n",
       "Population                     0\n",
       "Energy_intensity_per_capita    0\n",
       "Energy_intensity_by_GDP        0\n",
       "CO2_emission                   0\n",
       "Average_CO2_emission           0\n",
       "dtype: int64"
      ]
     },
     "execution_count": 26,
     "metadata": {},
     "output_type": "execute_result"
    }
   ],
   "source": [
    "# Checking again missing values\n",
    "df_co2_clustering.isnull().sum()"
   ]
  },
  {
   "cell_type": "markdown",
   "id": "242ffd65",
   "metadata": {},
   "source": [
    "## 3.4 Standardize data"
   ]
  },
  {
   "cell_type": "markdown",
   "id": "2b5caa8a",
   "metadata": {},
   "source": [
    "Now, this is a crucial part. The scale in our variables is pretty much different (let's think about the scale of the Population variable) so before performing a K-means clustering we need to standardize data. <br>\n",
    "I will use the standardscaler function to standardize all the dataframe."
   ]
  },
  {
   "cell_type": "code",
   "execution_count": 27,
   "id": "6f08263a",
   "metadata": {},
   "outputs": [],
   "source": [
    "# Defining a scaling object\n",
    "scaler = StandardScaler()"
   ]
  },
  {
   "cell_type": "code",
   "execution_count": 28,
   "id": "f904a7ab",
   "metadata": {},
   "outputs": [],
   "source": [
    "# Creating an object containing an array of standardized data\n",
    "df_co2_clustering_standard = scaler.fit_transform(df_co2_clustering)"
   ]
  },
  {
   "cell_type": "markdown",
   "id": "68a7ee03",
   "metadata": {},
   "source": [
    "Let's have a look at our output."
   ]
  },
  {
   "cell_type": "code",
   "execution_count": 29,
   "id": "c310d0d6",
   "metadata": {},
   "outputs": [
    {
     "data": {
      "text/plain": [
       "array([[-0.28719471, -0.31731067, -0.40143381, ..., -1.09979648,\n",
       "        -0.23399224, -0.31389682],\n",
       "       [-0.28990304, -0.32011806, -0.40143381, ..., -1.09979648,\n",
       "        -0.23817939, -0.31389682],\n",
       "       [-0.28448637, -0.31450328, -0.41272229, ..., -0.46895577,\n",
       "        -0.23286312, -0.31664651],\n",
       "       ...,\n",
       "       [-0.27094469, -0.30327373, -0.40700467, ..., -0.63865561,\n",
       "        -0.22624522, -0.31074026],\n",
       "       [-0.28719471, -0.31871437, -0.35003398, ..., -1.43550703,\n",
       "        -0.23408633, -0.31606877],\n",
       "       [-0.28448637, -0.3102922 , -0.41154237, ..., -0.09266482,\n",
       "        -0.23142035, -0.3121332 ]])"
      ]
     },
     "execution_count": 29,
     "metadata": {},
     "output_type": "execute_result"
    }
   ],
   "source": [
    "df_co2_clustering_standard"
   ]
  },
  {
   "cell_type": "markdown",
   "id": "0d1c98a9",
   "metadata": {},
   "source": [
    "Perfect! Now we can use this array to decide how much clusters to use."
   ]
  },
  {
   "cell_type": "markdown",
   "id": "d3b71dea",
   "metadata": {},
   "source": [
    "# 4. The elbow technique\n",
    "** **"
   ]
  },
  {
   "cell_type": "markdown",
   "id": "f22d98ab",
   "metadata": {},
   "source": [
    "Through the elbow technique we can decide how much clusters we need for our cluster analysis. <br>\n",
    "Let's create 10 different set, containing from 1 to 10 clusters."
   ]
  },
  {
   "cell_type": "code",
   "execution_count": 30,
   "id": "665b51b1",
   "metadata": {},
   "outputs": [],
   "source": [
    "# Setting the range of clusters and a kmeans object containing the range assigned above\n",
    "num_cl = range(1, 10)\n",
    "kmeans = [KMeans(n_clusters=i) for i in num_cl]"
   ]
  },
  {
   "cell_type": "code",
   "execution_count": 31,
   "id": "77342ae4",
   "metadata": {},
   "outputs": [
    {
     "name": "stderr",
     "output_type": "stream",
     "text": [
      "C:\\Users\\Simone\\anaconda3\\lib\\site-packages\\sklearn\\cluster\\_kmeans.py:870: FutureWarning: The default value of `n_init` will change from 10 to 'auto' in 1.4. Set the value of `n_init` explicitly to suppress the warning\n",
      "  warnings.warn(\n",
      "C:\\Users\\Simone\\anaconda3\\lib\\site-packages\\sklearn\\cluster\\_kmeans.py:1382: UserWarning: KMeans is known to have a memory leak on Windows with MKL, when there are less chunks than available threads. You can avoid it by setting the environment variable OMP_NUM_THREADS=5.\n",
      "  warnings.warn(\n",
      "C:\\Users\\Simone\\anaconda3\\lib\\site-packages\\sklearn\\cluster\\_kmeans.py:870: FutureWarning: The default value of `n_init` will change from 10 to 'auto' in 1.4. Set the value of `n_init` explicitly to suppress the warning\n",
      "  warnings.warn(\n",
      "C:\\Users\\Simone\\anaconda3\\lib\\site-packages\\sklearn\\cluster\\_kmeans.py:1382: UserWarning: KMeans is known to have a memory leak on Windows with MKL, when there are less chunks than available threads. You can avoid it by setting the environment variable OMP_NUM_THREADS=5.\n",
      "  warnings.warn(\n",
      "C:\\Users\\Simone\\anaconda3\\lib\\site-packages\\sklearn\\cluster\\_kmeans.py:870: FutureWarning: The default value of `n_init` will change from 10 to 'auto' in 1.4. Set the value of `n_init` explicitly to suppress the warning\n",
      "  warnings.warn(\n",
      "C:\\Users\\Simone\\anaconda3\\lib\\site-packages\\sklearn\\cluster\\_kmeans.py:1382: UserWarning: KMeans is known to have a memory leak on Windows with MKL, when there are less chunks than available threads. You can avoid it by setting the environment variable OMP_NUM_THREADS=5.\n",
      "  warnings.warn(\n",
      "C:\\Users\\Simone\\anaconda3\\lib\\site-packages\\sklearn\\cluster\\_kmeans.py:870: FutureWarning: The default value of `n_init` will change from 10 to 'auto' in 1.4. Set the value of `n_init` explicitly to suppress the warning\n",
      "  warnings.warn(\n",
      "C:\\Users\\Simone\\anaconda3\\lib\\site-packages\\sklearn\\cluster\\_kmeans.py:1382: UserWarning: KMeans is known to have a memory leak on Windows with MKL, when there are less chunks than available threads. You can avoid it by setting the environment variable OMP_NUM_THREADS=5.\n",
      "  warnings.warn(\n",
      "C:\\Users\\Simone\\anaconda3\\lib\\site-packages\\sklearn\\cluster\\_kmeans.py:870: FutureWarning: The default value of `n_init` will change from 10 to 'auto' in 1.4. Set the value of `n_init` explicitly to suppress the warning\n",
      "  warnings.warn(\n",
      "C:\\Users\\Simone\\anaconda3\\lib\\site-packages\\sklearn\\cluster\\_kmeans.py:1382: UserWarning: KMeans is known to have a memory leak on Windows with MKL, when there are less chunks than available threads. You can avoid it by setting the environment variable OMP_NUM_THREADS=5.\n",
      "  warnings.warn(\n",
      "C:\\Users\\Simone\\anaconda3\\lib\\site-packages\\sklearn\\cluster\\_kmeans.py:870: FutureWarning: The default value of `n_init` will change from 10 to 'auto' in 1.4. Set the value of `n_init` explicitly to suppress the warning\n",
      "  warnings.warn(\n",
      "C:\\Users\\Simone\\anaconda3\\lib\\site-packages\\sklearn\\cluster\\_kmeans.py:1382: UserWarning: KMeans is known to have a memory leak on Windows with MKL, when there are less chunks than available threads. You can avoid it by setting the environment variable OMP_NUM_THREADS=5.\n",
      "  warnings.warn(\n",
      "C:\\Users\\Simone\\anaconda3\\lib\\site-packages\\sklearn\\cluster\\_kmeans.py:870: FutureWarning: The default value of `n_init` will change from 10 to 'auto' in 1.4. Set the value of `n_init` explicitly to suppress the warning\n",
      "  warnings.warn(\n",
      "C:\\Users\\Simone\\anaconda3\\lib\\site-packages\\sklearn\\cluster\\_kmeans.py:1382: UserWarning: KMeans is known to have a memory leak on Windows with MKL, when there are less chunks than available threads. You can avoid it by setting the environment variable OMP_NUM_THREADS=5.\n",
      "  warnings.warn(\n",
      "C:\\Users\\Simone\\anaconda3\\lib\\site-packages\\sklearn\\cluster\\_kmeans.py:870: FutureWarning: The default value of `n_init` will change from 10 to 'auto' in 1.4. Set the value of `n_init` explicitly to suppress the warning\n",
      "  warnings.warn(\n",
      "C:\\Users\\Simone\\anaconda3\\lib\\site-packages\\sklearn\\cluster\\_kmeans.py:1382: UserWarning: KMeans is known to have a memory leak on Windows with MKL, when there are less chunks than available threads. You can avoid it by setting the environment variable OMP_NUM_THREADS=5.\n",
      "  warnings.warn(\n",
      "C:\\Users\\Simone\\anaconda3\\lib\\site-packages\\sklearn\\cluster\\_kmeans.py:870: FutureWarning: The default value of `n_init` will change from 10 to 'auto' in 1.4. Set the value of `n_init` explicitly to suppress the warning\n",
      "  warnings.warn(\n",
      "C:\\Users\\Simone\\anaconda3\\lib\\site-packages\\sklearn\\cluster\\_kmeans.py:1382: UserWarning: KMeans is known to have a memory leak on Windows with MKL, when there are less chunks than available threads. You can avoid it by setting the environment variable OMP_NUM_THREADS=5.\n",
      "  warnings.warn(\n"
     ]
    },
    {
     "data": {
      "text/plain": [
       "[-8583.999999999998,\n",
       " -4927.312379857671,\n",
       " -3446.392342520112,\n",
       " -2280.162507413219,\n",
       " -1877.9235039270172,\n",
       " -1539.1261550881136,\n",
       " -1241.770828492876,\n",
       " -1054.0815071289228,\n",
       " -889.3819632418268]"
      ]
     },
     "execution_count": 31,
     "metadata": {},
     "output_type": "execute_result"
    }
   ],
   "source": [
    "# Now let's use our standardized data to assign a score to every combination of clusters\n",
    "score = [kmeans[i].fit(df_co2_clustering_standard).score(df_co2_clustering_standard) for i in range(len(kmeans))]\n",
    "\n",
    "score"
   ]
  },
  {
   "cell_type": "markdown",
   "id": "075e4614",
   "metadata": {},
   "source": [
    "This score is not useful in this state. Let's plot the elbow curve using scores."
   ]
  },
  {
   "cell_type": "code",
   "execution_count": 32,
   "id": "4b6eb4cb",
   "metadata": {},
   "outputs": [
    {
     "data": {
      "image/png": "[encoded data removed]",
      "text/plain": [
       "<Figure size 640x480 with 1 Axes>"
      ]
     },
     "metadata": {},
     "output_type": "display_data"
    }
   ],
   "source": [
    "# Ploting the elbow curve using PyLab\n",
    "\n",
    "pl.plot(score,num_cl)\n",
    "pl.xlabel('Score')\n",
    "pl.ylabel('Number of Clusters')\n",
    "pl.title('Elbow Curve')\n",
    "pl.show()"
   ]
  },
  {
   "cell_type": "markdown",
   "id": "2a073cc4",
   "metadata": {},
   "source": [
    "The curve begins to flatten out after 4 clusters!\n",
    "That means that the optimal number of clusters of our data is 4."
   ]
  },
  {
   "cell_type": "markdown",
   "id": "ee6e4d98",
   "metadata": {},
   "source": [
    "# 5. K-means clustering\n",
    "** **"
   ]
  },
  {
   "cell_type": "markdown",
   "id": "12341411",
   "metadata": {},
   "source": [
    "We are now ready to split our entire set of datapoints into 4 clusters!"
   ]
  },
  {
   "cell_type": "code",
   "execution_count": 33,
   "id": "477bae8e",
   "metadata": {},
   "outputs": [],
   "source": [
    "# Inputting the decided number of clusters into the kmeans object\n",
    "kmeans = KMeans(n_clusters = 4)"
   ]
  },
  {
   "cell_type": "code",
   "execution_count": 34,
   "id": "2ff883bd",
   "metadata": {},
   "outputs": [
    {
     "name": "stderr",
     "output_type": "stream",
     "text": [
      "C:\\Users\\Simone\\anaconda3\\lib\\site-packages\\sklearn\\cluster\\_kmeans.py:870: FutureWarning: The default value of `n_init` will change from 10 to 'auto' in 1.4. Set the value of `n_init` explicitly to suppress the warning\n",
      "  warnings.warn(\n",
      "C:\\Users\\Simone\\anaconda3\\lib\\site-packages\\sklearn\\cluster\\_kmeans.py:1382: UserWarning: KMeans is known to have a memory leak on Windows with MKL, when there are less chunks than available threads. You can avoid it by setting the environment variable OMP_NUM_THREADS=5.\n",
      "  warnings.warn(\n"
     ]
    },
    {
     "data": {
      "text/html": [
       "<style>#sk-container-id-1 {color: black;background-color: white;}#sk-container-id-1 pre{padding: 0;}#sk-container-id-1 div.sk-toggleable {background-color: white;}#sk-container-id-1 label.sk-toggleable__label {cursor: pointer;display: block;width: 100%;margin-bottom: 0;padding: 0.3em;box-sizing: border-box;text-align: center;}#sk-container-id-1 label.sk-toggleable__label-arrow:before {content: \"▸\";float: left;margin-right: 0.25em;color: #696969;}#sk-container-id-1 label.sk-toggleable__label-arrow:hover:before {color: black;}#sk-container-id-1 div.sk-estimator:hover label.sk-toggleable__label-arrow:before {color: black;}#sk-container-id-1 div.sk-toggleable__content {max-height: 0;max-width: 0;overflow: hidden;text-align: left;background-color: #f0f8ff;}#sk-container-id-1 div.sk-toggleable__content pre {margin: 0.2em;color: black;border-radius: 0.25em;background-color: #f0f8ff;}#sk-container-id-1 input.sk-toggleable__control:checked~div.sk-toggleable__content {max-height: 200px;max-width: 100%;overflow: auto;}#sk-container-id-1 input.sk-toggleable__control:checked~label.sk-toggleable__label-arrow:before {content: \"▾\";}#sk-container-id-1 div.sk-estimator input.sk-toggleable__control:checked~label.sk-toggleable__label {background-color: #d4ebff;}#sk-container-id-1 div.sk-label input.sk-toggleable__control:checked~label.sk-toggleable__label {background-color: #d4ebff;}#sk-container-id-1 input.sk-hidden--visually {border: 0;clip: rect(1px 1px 1px 1px);clip: rect(1px, 1px, 1px, 1px);height: 1px;margin: -1px;overflow: hidden;padding: 0;position: absolute;width: 1px;}#sk-container-id-1 div.sk-estimator {font-family: monospace;background-color: #f0f8ff;border: 1px dotted black;border-radius: 0.25em;box-sizing: border-box;margin-bottom: 0.5em;}#sk-container-id-1 div.sk-estimator:hover {background-color: #d4ebff;}#sk-container-id-1 div.sk-parallel-item::after {content: \"\";width: 100%;border-bottom: 1px solid gray;flex-grow: 1;}#sk-container-id-1 div.sk-label:hover label.sk-toggleable__label {background-color: #d4ebff;}#sk-container-id-1 div.sk-serial::before {content: \"\";position: absolute;border-left: 1px solid gray;box-sizing: border-box;top: 0;bottom: 0;left: 50%;z-index: 0;}#sk-container-id-1 div.sk-serial {display: flex;flex-direction: column;align-items: center;background-color: white;padding-right: 0.2em;padding-left: 0.2em;position: relative;}#sk-container-id-1 div.sk-item {position: relative;z-index: 1;}#sk-container-id-1 div.sk-parallel {display: flex;align-items: stretch;justify-content: center;background-color: white;position: relative;}#sk-container-id-1 div.sk-item::before, #sk-container-id-1 div.sk-parallel-item::before {content: \"\";position: absolute;border-left: 1px solid gray;box-sizing: border-box;top: 0;bottom: 0;left: 50%;z-index: -1;}#sk-container-id-1 div.sk-parallel-item {display: flex;flex-direction: column;z-index: 1;position: relative;background-color: white;}#sk-container-id-1 div.sk-parallel-item:first-child::after {align-self: flex-end;width: 50%;}#sk-container-id-1 div.sk-parallel-item:last-child::after {align-self: flex-start;width: 50%;}#sk-container-id-1 div.sk-parallel-item:only-child::after {width: 0;}#sk-container-id-1 div.sk-dashed-wrapped {border: 1px dashed gray;margin: 0 0.4em 0.5em 0.4em;box-sizing: border-box;padding-bottom: 0.4em;background-color: white;}#sk-container-id-1 div.sk-label label {font-family: monospace;font-weight: bold;display: inline-block;line-height: 1.2em;}#sk-container-id-1 div.sk-label-container {text-align: center;}#sk-container-id-1 div.sk-container {/* jupyter's `normalize.less` sets `[hidden] { display: none; }` but bootstrap.min.css set `[hidden] { display: none !important; }` so we also need the `!important` here to be able to override the default hidden behavior on the sphinx rendered scikit-learn.org. See: https://github.com/scikit-learn/scikit-learn/issues/21755 */display: inline-block !important;position: relative;}#sk-container-id-1 div.sk-text-repr-fallback {display: none;}</style><div id=\"sk-container-id-1\" class=\"sk-top-container\"><div class=\"sk-text-repr-fallback\"><pre>KMeans(n_clusters=4)</pre><b>In a Jupyter environment, please rerun this cell to show the HTML representation or trust the notebook. <br />On GitHub, the HTML representation is unable to render, please try loading this page with nbviewer.org.</b></div><div class=\"sk-container\" hidden><div class=\"sk-item\"><div class=\"sk-estimator sk-toggleable\"><input class=\"sk-toggleable__control sk-hidden--visually\" id=\"sk-estimator-id-1\" type=\"checkbox\" checked><label for=\"sk-estimator-id-1\" class=\"sk-toggleable__label sk-toggleable__label-arrow\">KMeans</label><div class=\"sk-toggleable__content\"><pre>KMeans(n_clusters=4)</pre></div></div></div></div></div>"
      ],
      "text/plain": [
       "KMeans(n_clusters=4)"
      ]
     },
     "execution_count": 34,
     "metadata": {},
     "output_type": "execute_result"
    }
   ],
   "source": [
    "# Fitting the kmeans object with our standardized data\n",
    "\n",
    "kmeans.fit(df_co2_clustering_standard)"
   ]
  },
  {
   "cell_type": "markdown",
   "id": "2eed479e",
   "metadata": {},
   "source": [
    "We're done! The algorithm created clusters based on our standardized data. <br>\n",
    "Now we can create a new column in our original database, so we can know to which cluster belong every observation."
   ]
  },
  {
   "cell_type": "code",
   "execution_count": 35,
   "id": "cea910c4",
   "metadata": {},
   "outputs": [
    {
     "name": "stderr",
     "output_type": "stream",
     "text": [
      "C:\\Users\\Simone\\anaconda3\\lib\\site-packages\\sklearn\\cluster\\_kmeans.py:870: FutureWarning: The default value of `n_init` will change from 10 to 'auto' in 1.4. Set the value of `n_init` explicitly to suppress the warning\n",
      "  warnings.warn(\n",
      "C:\\Users\\Simone\\anaconda3\\lib\\site-packages\\sklearn\\cluster\\_kmeans.py:1382: UserWarning: KMeans is known to have a memory leak on Windows with MKL, when there are less chunks than available threads. You can avoid it by setting the environment variable OMP_NUM_THREADS=5.\n",
      "  warnings.warn(\n"
     ]
    }
   ],
   "source": [
    "# Creating the new column\n",
    "df_co2_clustering['Cluster_number'] = kmeans.fit_predict(df_co2_clustering_standard)"
   ]
  },
  {
   "cell_type": "code",
   "execution_count": 36,
   "id": "2ead548b",
   "metadata": {},
   "outputs": [
    {
     "data": {
      "text/html": [
       "<div>\n",
       "<style scoped>\n",
       "    .dataframe tbody tr th:only-of-type {\n",
       "        vertical-align: middle;\n",
       "    }\n",
       "\n",
       "    .dataframe tbody tr th {\n",
       "        vertical-align: top;\n",
       "    }\n",
       "\n",
       "    .dataframe thead th {\n",
       "        text-align: right;\n",
       "    }\n",
       "</style>\n",
       "<table border=\"1\" class=\"dataframe\">\n",
       "  <thead>\n",
       "    <tr style=\"text-align: right;\">\n",
       "      <th></th>\n",
       "      <th>Energy_consumption</th>\n",
       "      <th>Energy_production</th>\n",
       "      <th>GDP</th>\n",
       "      <th>Population</th>\n",
       "      <th>Energy_intensity_per_capita</th>\n",
       "      <th>Energy_intensity_by_GDP</th>\n",
       "      <th>CO2_emission</th>\n",
       "      <th>Average_CO2_emission</th>\n",
       "      <th>Cluster_number</th>\n",
       "    </tr>\n",
       "  </thead>\n",
       "  <tbody>\n",
       "    <tr>\n",
       "      <th>0</th>\n",
       "      <td>0.03</td>\n",
       "      <td>0.03</td>\n",
       "      <td>72.06</td>\n",
       "      <td>34414.0</td>\n",
       "      <td>3.67</td>\n",
       "      <td>1.75</td>\n",
       "      <td>2.95</td>\n",
       "      <td>1.5824</td>\n",
       "      <td>0</td>\n",
       "    </tr>\n",
       "    <tr>\n",
       "      <th>1</th>\n",
       "      <td>0.01</td>\n",
       "      <td>0.01</td>\n",
       "      <td>72.06</td>\n",
       "      <td>34414.0</td>\n",
       "      <td>3.67</td>\n",
       "      <td>1.75</td>\n",
       "      <td>0.28</td>\n",
       "      <td>1.5824</td>\n",
       "      <td>0</td>\n",
       "    </tr>\n",
       "    <tr>\n",
       "      <th>7</th>\n",
       "      <td>0.05</td>\n",
       "      <td>0.05</td>\n",
       "      <td>33.60</td>\n",
       "      <td>2891.0</td>\n",
       "      <td>40.23</td>\n",
       "      <td>3.46</td>\n",
       "      <td>3.67</td>\n",
       "      <td>0.8228</td>\n",
       "      <td>0</td>\n",
       "    </tr>\n",
       "    <tr>\n",
       "      <th>11</th>\n",
       "      <td>1.49</td>\n",
       "      <td>3.11</td>\n",
       "      <td>477.36</td>\n",
       "      <td>39728.0</td>\n",
       "      <td>59.20</td>\n",
       "      <td>4.93</td>\n",
       "      <td>77.81</td>\n",
       "      <td>27.6464</td>\n",
       "      <td>0</td>\n",
       "    </tr>\n",
       "    <tr>\n",
       "      <th>12</th>\n",
       "      <td>0.86</td>\n",
       "      <td>3.58</td>\n",
       "      <td>477.36</td>\n",
       "      <td>39728.0</td>\n",
       "      <td>59.20</td>\n",
       "      <td>4.93</td>\n",
       "      <td>53.05</td>\n",
       "      <td>27.6464</td>\n",
       "      <td>0</td>\n",
       "    </tr>\n",
       "    <tr>\n",
       "      <th>21</th>\n",
       "      <td>0.03</td>\n",
       "      <td>0.03</td>\n",
       "      <td>204.60</td>\n",
       "      <td>27884.0</td>\n",
       "      <td>14.32</td>\n",
       "      <td>1.95</td>\n",
       "      <td>0.45</td>\n",
       "      <td>4.1296</td>\n",
       "      <td>0</td>\n",
       "    </tr>\n",
       "    <tr>\n",
       "      <th>22</th>\n",
       "      <td>0.32</td>\n",
       "      <td>3.87</td>\n",
       "      <td>204.60</td>\n",
       "      <td>27884.0</td>\n",
       "      <td>14.32</td>\n",
       "      <td>1.95</td>\n",
       "      <td>21.29</td>\n",
       "      <td>4.1296</td>\n",
       "      <td>0</td>\n",
       "    </tr>\n",
       "    <tr>\n",
       "      <th>31</th>\n",
       "      <td>1.73</td>\n",
       "      <td>1.34</td>\n",
       "      <td>867.71</td>\n",
       "      <td>43129.0</td>\n",
       "      <td>88.82</td>\n",
       "      <td>4.41</td>\n",
       "      <td>92.18</td>\n",
       "      <td>40.4844</td>\n",
       "      <td>0</td>\n",
       "    </tr>\n",
       "    <tr>\n",
       "      <th>32</th>\n",
       "      <td>1.63</td>\n",
       "      <td>1.32</td>\n",
       "      <td>867.71</td>\n",
       "      <td>43129.0</td>\n",
       "      <td>88.82</td>\n",
       "      <td>4.41</td>\n",
       "      <td>101.03</td>\n",
       "      <td>40.4844</td>\n",
       "      <td>0</td>\n",
       "    </tr>\n",
       "    <tr>\n",
       "      <th>45</th>\n",
       "      <td>1.78</td>\n",
       "      <td>12.09</td>\n",
       "      <td>1113.00</td>\n",
       "      <td>23859.0</td>\n",
       "      <td>242.16</td>\n",
       "      <td>5.19</td>\n",
       "      <td>162.33</td>\n",
       "      <td>80.6660</td>\n",
       "      <td>3</td>\n",
       "    </tr>\n",
       "  </tbody>\n",
       "</table>\n",
       "</div>"
      ],
      "text/plain": [
       "    Energy_consumption  Energy_production      GDP  Population  \\\n",
       "0                 0.03               0.03    72.06     34414.0   \n",
       "1                 0.01               0.01    72.06     34414.0   \n",
       "7                 0.05               0.05    33.60      2891.0   \n",
       "11                1.49               3.11   477.36     39728.0   \n",
       "12                0.86               3.58   477.36     39728.0   \n",
       "21                0.03               0.03   204.60     27884.0   \n",
       "22                0.32               3.87   204.60     27884.0   \n",
       "31                1.73               1.34   867.71     43129.0   \n",
       "32                1.63               1.32   867.71     43129.0   \n",
       "45                1.78              12.09  1113.00     23859.0   \n",
       "\n",
       "    Energy_intensity_per_capita  Energy_intensity_by_GDP  CO2_emission  \\\n",
       "0                          3.67                     1.75          2.95   \n",
       "1                          3.67                     1.75          0.28   \n",
       "7                         40.23                     3.46          3.67   \n",
       "11                        59.20                     4.93         77.81   \n",
       "12                        59.20                     4.93         53.05   \n",
       "21                        14.32                     1.95          0.45   \n",
       "22                        14.32                     1.95         21.29   \n",
       "31                        88.82                     4.41         92.18   \n",
       "32                        88.82                     4.41        101.03   \n",
       "45                       242.16                     5.19        162.33   \n",
       "\n",
       "    Average_CO2_emission  Cluster_number  \n",
       "0                 1.5824               0  \n",
       "1                 1.5824               0  \n",
       "7                 0.8228               0  \n",
       "11               27.6464               0  \n",
       "12               27.6464               0  \n",
       "21                4.1296               0  \n",
       "22                4.1296               0  \n",
       "31               40.4844               0  \n",
       "32               40.4844               0  \n",
       "45               80.6660               3  "
      ]
     },
     "execution_count": 36,
     "metadata": {},
     "output_type": "execute_result"
    }
   ],
   "source": [
    "# Checking our dataframe to see the new column\n",
    "df_co2_clustering.head(10)"
   ]
  },
  {
   "cell_type": "code",
   "execution_count": 37,
   "id": "b47fd46b",
   "metadata": {},
   "outputs": [
    {
     "data": {
      "text/plain": [
       "0    844\n",
       "3    184\n",
       "1     40\n",
       "2      5\n",
       "Name: Cluster_number, dtype: int64"
      ]
     },
     "execution_count": 37,
     "metadata": {},
     "output_type": "execute_result"
    }
   ],
   "source": [
    "# Checking the distribution of values of the new column\n",
    "df_co2_clustering['Cluster_number'].value_counts()"
   ]
  },
  {
   "cell_type": "markdown",
   "id": "f7cf33bd",
   "metadata": {},
   "source": [
    "It seems the majority of datapoints are gathered into two big clusters, while other two clusters contain very few observations. <br>\n",
    "This reflects in a certain sense the nature of our dataset. In fact we've already seen that three countries in particular (India, China and United States) are like a league of their own, compared to other countries."
   ]
  },
  {
   "cell_type": "markdown",
   "id": "01f2168a",
   "metadata": {},
   "source": [
    "# 6. Visualizations analysis\n",
    "** **"
   ]
  },
  {
   "cell_type": "markdown",
   "id": "2c132d50",
   "metadata": {},
   "source": [
    "Now that we divided our data into cluster, all that is left to do is to analyze different visualizations, using our clusters as hue labels. <br>\n",
    "Let's start with a relationship between two variables that we investigated multiple times: energy consumption and CO2 emissions."
   ]
  },
  {
   "cell_type": "code",
   "execution_count": 38,
   "id": "15558d9e",
   "metadata": {},
   "outputs": [
    {
     "data": {
      "image/png": "[encoded data removed]",
      "text/plain": [
       "<Figure size 1200x800 with 1 Axes>"
      ]
     },
     "metadata": {},
     "output_type": "display_data"
    }
   ],
   "source": [
    "# Creating a scatterplot for Energy consumption and CO2 emissions\n",
    "plt.figure(figsize=(12,8))\n",
    "ax = sns.scatterplot(x=df_co2_clustering['Energy_consumption'], y=df_co2_clustering['CO2_emission'], hue=kmeans.labels_, s=100) \n",
    "ax.grid(False) # This removes the grid from the background.\n",
    "plt.xlabel('Energy consumption (quad)') # Label x-axis.\n",
    "plt.ylabel('CO2 emissions (milliontonnes)') # Label y-axis.\n",
    "plt.show()"
   ]
  },
  {
   "cell_type": "markdown",
   "id": "25f41aba",
   "metadata": {},
   "source": [
    "From now on we will call: <br>\n",
    "cluster 0 as light pink,<br> \n",
    "cluster 1 as pink, <br>\n",
    "cluster 2 as purple,<br> \n",
    "cluster 3 as dark purple, <br>\n",
    "<br>\n",
    "This chart isn't giving us new insights. It seems that both variables had an impact into the clustering process. <br>\n",
    "The light pink cluster and the dark purple cluster contain observations with the fewer values of emissions and consumption. <br>\n",
    "The pink cluster contains the highest values, while the purple is basically some kind of outlier, so it has a cluster of its own."
   ]
  },
  {
   "cell_type": "markdown",
   "id": "dd166181",
   "metadata": {},
   "source": [
    "Let's try to analize something different."
   ]
  },
  {
   "cell_type": "code",
   "execution_count": 39,
   "id": "8e73854c",
   "metadata": {},
   "outputs": [
    {
     "data": {
      "image/png": "[encoded data removed]",
      "text/plain": [
       "<Figure size 1200x800 with 1 Axes>"
      ]
     },
     "metadata": {},
     "output_type": "display_data"
    }
   ],
   "source": [
    "# Creating the scatterplot for Energy production and CO2 emissions\n",
    "plt.figure(figsize=(12,8))\n",
    "ax_2 = sns.scatterplot(x=df_co2_clustering['Energy_production'], y=df_co2_clustering['CO2_emission'], hue=kmeans.labels_, s=100) \n",
    "ax_2.grid(False)\n",
    "plt.xlabel('Energy production (quad)')\n",
    "plt.ylabel('CO2 emissions (milliontonnes)')\n",
    "plt.show()"
   ]
  },
  {
   "cell_type": "markdown",
   "id": "8ec1fec8",
   "metadata": {},
   "source": [
    "The result is similar to the previous chart. <br>\n",
    "Light pink and dark purple contain the lowest values in terms of emissions, while pink and purple the highest. <br>\n",
    "What is different, is that among the dark purple cluster there is a big variance when it comes to energy production. <br>\n",
    "Maybe this variable didn't have a great impact into clusters division process as other variables."
   ]
  },
  {
   "cell_type": "markdown",
   "id": "85faf4be",
   "metadata": {},
   "source": [
    "Let's try to plot togethere the two energy variables."
   ]
  },
  {
   "cell_type": "code",
   "execution_count": 40,
   "id": "744fae51",
   "metadata": {},
   "outputs": [
    {
     "data": {
      "image/png": "[encoded data removed]",
      "text/plain": [
       "<Figure size 1200x800 with 1 Axes>"
      ]
     },
     "metadata": {},
     "output_type": "display_data"
    }
   ],
   "source": [
    "# Creating the scatterplot for Energy consumption and Energy production\n",
    "plt.figure(figsize=(12,8))\n",
    "ax_3 = sns.scatterplot(x=df_co2_clustering['Energy_consumption'], y=df_co2_clustering['Energy_production'], hue=kmeans.labels_, s=100) \n",
    "ax_3.grid(False)\n",
    "plt.xlabel('Energy consumption (quad)')\n",
    "plt.ylabel('Energy production (quad)')\n",
    "plt.show()"
   ]
  },
  {
   "cell_type": "markdown",
   "id": "ce496ec9",
   "metadata": {},
   "source": [
    "The scenario is very similar in this case as well. <br>\n",
    "Light pink and dark purple are clustered in the bottom left corner, with some exceptions for the dark purple cluster. <br>\n",
    "Pink cluster has a linear upward trend. Purple cluster sits in the top right corner all alone."
   ]
  },
  {
   "cell_type": "markdown",
   "id": "fe5cc24e",
   "metadata": {},
   "source": [
    "I need to explore something more different. Let's try to see how appear a correlation between emissions and population."
   ]
  },
  {
   "cell_type": "code",
   "execution_count": 41,
   "id": "ab7c4529",
   "metadata": {},
   "outputs": [
    {
     "data": {
      "image/png": "[encoded data removed]",
      "text/plain": [
       "<Figure size 1200x800 with 1 Axes>"
      ]
     },
     "metadata": {},
     "output_type": "display_data"
    }
   ],
   "source": [
    "plt.figure(figsize=(12,8))\n",
    "ax_4 = sns.scatterplot(x=df_co2_clustering['Population'], y=df_co2_clustering['CO2_emission'], hue=kmeans.labels_, s=100) \n",
    "ax_4.grid(False)\n",
    "plt.xlabel('Populations (thousands)')\n",
    "plt.ylabel('CO2 emissions (milliontonnes)')\n",
    "plt.show()"
   ]
  },
  {
   "cell_type": "markdown",
   "id": "8511cc98",
   "metadata": {},
   "source": [
    "This is something very <b>interesting</b>. <br>\n",
    "There are two groups from the pink cluster that are very far from each other.<br> \n",
    "Despite the huge difference in term of population, they are grouped together in the same cluster. <br>\n",
    "And despite some values of the pink cluster have a population value as high as the purple cluster, they still belong to the pink cluster. <br>\n",
    "According to this insight, I am convinced that population did not have a huge impact on the clustering process, while CO2 emissions definitely had."
   ]
  },
  {
   "cell_type": "markdown",
   "id": "ee8ce76e",
   "metadata": {},
   "source": [
    "If CO2 emissions were a factor so important in clustering our data, let's see what happens if we plot together emissions and average emissions."
   ]
  },
  {
   "cell_type": "code",
   "execution_count": 42,
   "id": "117f91af",
   "metadata": {},
   "outputs": [
    {
     "data": {
      "image/png": "[encoded data removed]",
      "text/plain": [
       "<Figure size 1200x800 with 1 Axes>"
      ]
     },
     "metadata": {},
     "output_type": "display_data"
    }
   ],
   "source": [
    "plt.figure(figsize=(12,8))\n",
    "ax_5 = sns.scatterplot(x=df_co2_clustering['Average_CO2_emission'], y=df_co2_clustering['CO2_emission'], hue=kmeans.labels_, s=100) \n",
    "ax_5.grid(False)\n",
    "plt.xlabel('Average CO2 emissions (milliontonnes)')\n",
    "plt.ylabel('CO2 emissions (milliontonnes)')\n",
    "plt.show()"
   ]
  },
  {
   "cell_type": "markdown",
   "id": "59b7de9e",
   "metadata": {},
   "source": [
    "The more the average increases, the more the clusters separate from each other. <br>\n",
    "Purple is still on a league of its own because, even on average, the values are out of scale compared to others data points. <br>\n",
    "It's like the 5 observations in the purple cluster are too much different from any other observations in the entire dataframe."
   ]
  },
  {
   "cell_type": "markdown",
   "id": "d51b2886",
   "metadata": {},
   "source": [
    "Let's try another one, featuring Energy consumption and Population."
   ]
  },
  {
   "cell_type": "code",
   "execution_count": 43,
   "id": "4a4a15d2",
   "metadata": {},
   "outputs": [
    {
     "data": {
      "image/png": "[encoded data removed]",
      "text/plain": [
       "<Figure size 1200x800 with 1 Axes>"
      ]
     },
     "metadata": {},
     "output_type": "display_data"
    }
   ],
   "source": [
    "plt.figure(figsize=(12,8))\n",
    "ax_6 = sns.scatterplot(x=df_co2_clustering['Energy_consumption'], y=df_co2_clustering['Population'], hue=kmeans.labels_, s=100) \n",
    "ax_6.grid(False)\n",
    "plt.xlabel('Energy consumption (Quad)')\n",
    "plt.ylabel('Population (Thousands)')\n",
    "plt.show()"
   ]
  },
  {
   "cell_type": "markdown",
   "id": "7d191351",
   "metadata": {},
   "source": [
    "That's it! Here I can see a clear trend among clusters.<br>\n",
    "<br>\n",
    "<b>Light pink:</b> relatively small values, more clustered around energy consumption, more variability in number of population. <br>\n",
    "<b>Dark Purple:</b> relatively small values, more clustered around number of population, more variability in energy consumption.<br>\n",
    "<b>Pink:</b> High values, either high population or high energy consumption.<br>\n",
    "<b>Purple:</b> extreme values for both population and consumption."
   ]
  },
  {
   "cell_type": "markdown",
   "id": "896cc0cb",
   "metadata": {},
   "source": [
    "To gain more insights about this clustering analysis, let's check the descriptive statistics of our clusters."
   ]
  },
  {
   "cell_type": "markdown",
   "id": "dd096dd7",
   "metadata": {},
   "source": [
    "# 7. Descriptive statistics\n",
    "** **"
   ]
  },
  {
   "cell_type": "markdown",
   "id": "51156880",
   "metadata": {},
   "source": [
    "First of all, let's create a new column and assign to every cluster number, a colour."
   ]
  },
  {
   "cell_type": "code",
   "execution_count": 46,
   "id": "caa74b92",
   "metadata": {},
   "outputs": [],
   "source": [
    "# Renaming the clusters into colors\n",
    "df_co2_clustering.loc[df_co2_clustering['Cluster_number'] == 0, 'Cluster_name'] = 'Light pink'\n",
    "df_co2_clustering.loc[df_co2_clustering['Cluster_number'] == 1, 'Cluster_name'] = 'Pink'\n",
    "df_co2_clustering.loc[df_co2_clustering['Cluster_number'] == 2, 'Cluster_name'] = 'Purple'\n",
    "df_co2_clustering.loc[df_co2_clustering['Cluster_number'] == 3, 'Cluster_name'] = 'Dark purple'"
   ]
  },
  {
   "cell_type": "code",
   "execution_count": 49,
   "id": "d81320ab",
   "metadata": {},
   "outputs": [
    {
     "data": {
      "text/html": [
       "<div>\n",
       "<style scoped>\n",
       "    .dataframe tbody tr th:only-of-type {\n",
       "        vertical-align: middle;\n",
       "    }\n",
       "\n",
       "    .dataframe tbody tr th {\n",
       "        vertical-align: top;\n",
       "    }\n",
       "\n",
       "    .dataframe thead tr th {\n",
       "        text-align: left;\n",
       "    }\n",
       "\n",
       "    .dataframe thead tr:last-of-type th {\n",
       "        text-align: right;\n",
       "    }\n",
       "</style>\n",
       "<table border=\"1\" class=\"dataframe\">\n",
       "  <thead>\n",
       "    <tr>\n",
       "      <th></th>\n",
       "      <th colspan=\"2\" halign=\"left\">Energy_consumption</th>\n",
       "      <th colspan=\"2\" halign=\"left\">Energy_production</th>\n",
       "      <th colspan=\"2\" halign=\"left\">GDP</th>\n",
       "      <th colspan=\"2\" halign=\"left\">Population</th>\n",
       "      <th colspan=\"2\" halign=\"left\">Energy_intensity_per_capita</th>\n",
       "      <th colspan=\"2\" halign=\"left\">Energy_intensity_by_GDP</th>\n",
       "      <th colspan=\"2\" halign=\"left\">CO2_emission</th>\n",
       "      <th colspan=\"2\" halign=\"left\">Average_CO2_emission</th>\n",
       "    </tr>\n",
       "    <tr>\n",
       "      <th></th>\n",
       "      <th>mean</th>\n",
       "      <th>median</th>\n",
       "      <th>mean</th>\n",
       "      <th>median</th>\n",
       "      <th>mean</th>\n",
       "      <th>median</th>\n",
       "      <th>mean</th>\n",
       "      <th>median</th>\n",
       "      <th>mean</th>\n",
       "      <th>median</th>\n",
       "      <th>mean</th>\n",
       "      <th>median</th>\n",
       "      <th>mean</th>\n",
       "      <th>median</th>\n",
       "      <th>mean</th>\n",
       "      <th>median</th>\n",
       "    </tr>\n",
       "    <tr>\n",
       "      <th>Cluster_name</th>\n",
       "      <th></th>\n",
       "      <th></th>\n",
       "      <th></th>\n",
       "      <th></th>\n",
       "      <th></th>\n",
       "      <th></th>\n",
       "      <th></th>\n",
       "      <th></th>\n",
       "      <th></th>\n",
       "      <th></th>\n",
       "      <th></th>\n",
       "      <th></th>\n",
       "      <th></th>\n",
       "      <th></th>\n",
       "      <th></th>\n",
       "      <th></th>\n",
       "    </tr>\n",
       "  </thead>\n",
       "  <tbody>\n",
       "    <tr>\n",
       "      <th>Dark purple</th>\n",
       "      <td>2.376793</td>\n",
       "      <td>1.445</td>\n",
       "      <td>5.161413</td>\n",
       "      <td>2.985</td>\n",
       "      <td>952.529674</td>\n",
       "      <td>444.87</td>\n",
       "      <td>3.187189e+04</td>\n",
       "      <td>17831.0</td>\n",
       "      <td>324.659022</td>\n",
       "      <td>301.82</td>\n",
       "      <td>8.646576</td>\n",
       "      <td>8.615</td>\n",
       "      <td>145.498370</td>\n",
       "      <td>76.530</td>\n",
       "      <td>80.410698</td>\n",
       "      <td>53.1848</td>\n",
       "    </tr>\n",
       "    <tr>\n",
       "      <th>Light pink</th>\n",
       "      <td>0.835225</td>\n",
       "      <td>0.300</td>\n",
       "      <td>0.701066</td>\n",
       "      <td>0.125</td>\n",
       "      <td>773.533543</td>\n",
       "      <td>343.56</td>\n",
       "      <td>4.854573e+04</td>\n",
       "      <td>29121.0</td>\n",
       "      <td>68.120841</td>\n",
       "      <td>61.39</td>\n",
       "      <td>3.849076</td>\n",
       "      <td>3.500</td>\n",
       "      <td>55.891209</td>\n",
       "      <td>19.280</td>\n",
       "      <td>31.223871</td>\n",
       "      <td>13.0804</td>\n",
       "    </tr>\n",
       "    <tr>\n",
       "      <th>Pink</th>\n",
       "      <td>17.848000</td>\n",
       "      <td>14.920</td>\n",
       "      <td>12.508000</td>\n",
       "      <td>9.545</td>\n",
       "      <td>15357.810500</td>\n",
       "      <td>18357.83</td>\n",
       "      <td>9.802513e+05</td>\n",
       "      <td>1326362.0</td>\n",
       "      <td>147.037000</td>\n",
       "      <td>99.89</td>\n",
       "      <td>5.046500</td>\n",
       "      <td>5.160</td>\n",
       "      <td>1157.666500</td>\n",
       "      <td>1418.245</td>\n",
       "      <td>1078.004000</td>\n",
       "      <td>1050.1492</td>\n",
       "    </tr>\n",
       "    <tr>\n",
       "      <th>Purple</th>\n",
       "      <td>90.330000</td>\n",
       "      <td>90.370</td>\n",
       "      <td>83.206000</td>\n",
       "      <td>84.250</td>\n",
       "      <td>20482.556000</td>\n",
       "      <td>20444.71</td>\n",
       "      <td>1.421441e+06</td>\n",
       "      <td>1421755.0</td>\n",
       "      <td>100.630000</td>\n",
       "      <td>99.89</td>\n",
       "      <td>7.022000</td>\n",
       "      <td>6.950</td>\n",
       "      <td>8603.142000</td>\n",
       "      <td>8546.290</td>\n",
       "      <td>2094.652400</td>\n",
       "      <td>2094.6524</td>\n",
       "    </tr>\n",
       "  </tbody>\n",
       "</table>\n",
       "</div>"
      ],
      "text/plain": [
       "             Energy_consumption         Energy_production          \\\n",
       "                           mean  median              mean  median   \n",
       "Cluster_name                                                        \n",
       "Dark purple            2.376793   1.445          5.161413   2.985   \n",
       "Light pink             0.835225   0.300          0.701066   0.125   \n",
       "Pink                  17.848000  14.920         12.508000   9.545   \n",
       "Purple                90.330000  90.370         83.206000  84.250   \n",
       "\n",
       "                       GDP              Population             \\\n",
       "                      mean    median          mean     median   \n",
       "Cluster_name                                                    \n",
       "Dark purple     952.529674    444.87  3.187189e+04    17831.0   \n",
       "Light pink      773.533543    343.56  4.854573e+04    29121.0   \n",
       "Pink          15357.810500  18357.83  9.802513e+05  1326362.0   \n",
       "Purple        20482.556000  20444.71  1.421441e+06  1421755.0   \n",
       "\n",
       "             Energy_intensity_per_capita         Energy_intensity_by_GDP  \\\n",
       "                                    mean  median                    mean   \n",
       "Cluster_name                                                               \n",
       "Dark purple                   324.659022  301.82                8.646576   \n",
       "Light pink                     68.120841   61.39                3.849076   \n",
       "Pink                          147.037000   99.89                5.046500   \n",
       "Purple                        100.630000   99.89                7.022000   \n",
       "\n",
       "                    CO2_emission           Average_CO2_emission             \n",
       "             median         mean    median                 mean     median  \n",
       "Cluster_name                                                                \n",
       "Dark purple   8.615   145.498370    76.530            80.410698    53.1848  \n",
       "Light pink    3.500    55.891209    19.280            31.223871    13.0804  \n",
       "Pink          5.160  1157.666500  1418.245          1078.004000  1050.1492  \n",
       "Purple        6.950  8603.142000  8546.290          2094.652400  2094.6524  "
      ]
     },
     "execution_count": 49,
     "metadata": {},
     "output_type": "execute_result"
    }
   ],
   "source": [
    "# Calculating descriptive statistics\n",
    "df_co2_clustering.groupby('Cluster_name').agg({'Energy_consumption':['mean', 'median'],\n",
    "                                               'Energy_production':['mean', 'median'],\n",
    "                                               'GDP':['mean', 'median'],\n",
    "                                               'Population':['mean', 'median'],\n",
    "                                               'Energy_intensity_per_capita': ['mean', 'median'],\n",
    "                                               'Energy_intensity_by_GDP': ['mean', 'median'],\n",
    "                                               'CO2_emission': ['mean', 'median'],\n",
    "                                               'Average_CO2_emission': ['mean', 'median']})"
   ]
  },
  {
   "cell_type": "markdown",
   "id": "9d781a4b",
   "metadata": {},
   "source": [
    "Judging from this descriptive statistics, all variables somewhat played a role in the clustering process. <br>\n",
    "<br>\n",
    "Light pink and dark purple, on average, have the lowest values basically in all categories (only exception is Energy intensity). <br>\n",
    "The difference in mean and median is not so high, but generally dark purple cluster contains higher values compared to light pink. <br>\n",
    "Not only light pink and dark purple are clusters very similar to each other, they also basically contains 90% of our observations (respectively 844 and 184 count of values). <br>\n",
    "<br>\n",
    "The situation is very different for pink cluster: it contains only 40 observations, with values definitely higher than light pink and dark purple clusters. <br>\n",
    "Then there is purple: basically some kind of an outlier, with values that are not even comparable to other clusters."
   ]
  },
  {
   "cell_type": "markdown",
   "id": "3a0e81f2",
   "metadata": {},
   "source": [
    "Basically it seems that clustering gave us an overview of what we already noticed in our previous analysis: <br>\n",
    "<br>\n",
    "The majority of values recorded in countries are similar to each other (with small differences, as seen in light pink and dark purple clusters). <br>\n",
    "<br>\n",
    "Then there are countries such as India, United States and China that are above all others, with higher Energy consumption, Energy production, GDP, Population, CO2 emissions, and so on. <br>\n",
    "<br>\n",
    "Then, the last cluster, basically contains the 5 observations related to China and \"coal\" as energy type, that deserves a cluster of its own. <br>\n",
    "<br>\n",
    "This clustering analysis seems to hint again at the fact that further analysis should be conducted separately: <br>\n",
    "On one side, we have basically India, China and United States; <br>\n",
    "On the other side, the rest of countries."
   ]
  }
 ],
 "metadata": {
  "kernelspec": {
   "display_name": "Python 3 (ipykernel)",
   "language": "python",
   "name": "python3"
  },
  "language_info": {
   "codemirror_mode": {
    "name": "ipython",
    "version": 3
   },
   "file_extension": ".py",
   "mimetype": "text/x-python",
   "name": "python",
   "nbconvert_exporter": "python",
   "pygments_lexer": "ipython3",
   "version": "3.9.16"
  }
 },
 "nbformat": 4,
 "nbformat_minor": 5
}
